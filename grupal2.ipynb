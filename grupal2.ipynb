{
 "cells": [
  {
   "cell_type": "code",
   "execution_count": 27,
   "metadata": {},
   "outputs": [],
   "source": [
    "import pandas as pd\n",
    "from sodapy import Socrata\n",
    "import numpy as np"
   ]
  },
  {
   "cell_type": "code",
   "execution_count": 28,
   "metadata": {},
   "outputs": [],
   "source": [
    "client = Socrata('data.cityofnewyork.us',\n",
    "                  'P5yEsPDgBpkSlfs3G7Kg0DM6o',)"
   ]
  },
  {
   "cell_type": "code",
   "execution_count": 29,
   "metadata": {},
   "outputs": [],
   "source": [
    "results = client.get(\"h9gi-nx95\", limit=1920000)\n",
    "results_df = pd.DataFrame.from_records(results)"
   ]
  },
  {
   "cell_type": "code",
   "execution_count": 30,
   "metadata": {},
   "outputs": [],
   "source": [
    "results_df['crash_date'].replace({'T00:00:00.000':''}, regex=True, inplace=True)\n",
    "results_df['crash_date_time']=pd.to_datetime(results_df['crash_date'] + results_df['crash_time'], format='%Y-%m-%d%H:%M')"
   ]
  },
  {
   "cell_type": "code",
   "execution_count": 31,
   "metadata": {},
   "outputs": [],
   "source": [
    "choques_nyc=results_df[results_df['crash_date_time'].dt.year.isin([2019,2020,2021,2022])]"
   ]
  },
  {
   "cell_type": "code",
   "execution_count": 32,
   "metadata": {},
   "outputs": [
    {
     "name": "stderr",
     "output_type": "stream",
     "text": [
      "C:\\Users\\Bauty\\AppData\\Local\\Temp\\ipykernel_17696\\1299586621.py:1: SettingWithCopyWarning: \n",
      "A value is trying to be set on a copy of a slice from a DataFrame.\n",
      "Try using .loc[row_indexer,col_indexer] = value instead\n",
      "\n",
      "See the caveats in the documentation: https://pandas.pydata.org/pandas-docs/stable/user_guide/indexing.html#returning-a-view-versus-a-copy\n",
      "  choques_nyc['anio'] = choques_nyc['crash_date_time'].dt.year\n",
      "C:\\Users\\Bauty\\AppData\\Local\\Temp\\ipykernel_17696\\1299586621.py:2: SettingWithCopyWarning: \n",
      "A value is trying to be set on a copy of a slice from a DataFrame.\n",
      "Try using .loc[row_indexer,col_indexer] = value instead\n",
      "\n",
      "See the caveats in the documentation: https://pandas.pydata.org/pandas-docs/stable/user_guide/indexing.html#returning-a-view-versus-a-copy\n",
      "  choques_nyc['mes'] = choques_nyc['crash_date_time'].dt.month\n",
      "C:\\Users\\Bauty\\AppData\\Local\\Temp\\ipykernel_17696\\1299586621.py:3: SettingWithCopyWarning: \n",
      "A value is trying to be set on a copy of a slice from a DataFrame.\n",
      "Try using .loc[row_indexer,col_indexer] = value instead\n",
      "\n",
      "See the caveats in the documentation: https://pandas.pydata.org/pandas-docs/stable/user_guide/indexing.html#returning-a-view-versus-a-copy\n",
      "  choques_nyc['dia'] = choques_nyc['crash_date_time'].dt.day\n",
      "C:\\Users\\Bauty\\AppData\\Local\\Temp\\ipykernel_17696\\1299586621.py:4: SettingWithCopyWarning: \n",
      "A value is trying to be set on a copy of a slice from a DataFrame.\n",
      "Try using .loc[row_indexer,col_indexer] = value instead\n",
      "\n",
      "See the caveats in the documentation: https://pandas.pydata.org/pandas-docs/stable/user_guide/indexing.html#returning-a-view-versus-a-copy\n",
      "  choques_nyc['hora'] = choques_nyc['crash_date_time'].dt.time\n"
     ]
    }
   ],
   "source": [
    "choques_nyc['anio'] = choques_nyc['crash_date_time'].dt.year\n",
    "choques_nyc['mes'] = choques_nyc['crash_date_time'].dt.month\n",
    "choques_nyc['dia'] = choques_nyc['crash_date_time'].dt.day\n",
    "choques_nyc['hora'] = choques_nyc['crash_date_time'].dt.time"
   ]
  },
  {
   "cell_type": "code",
   "execution_count": 33,
   "metadata": {},
   "outputs": [
    {
     "data": {
      "text/plain": [
       "Index(['crash_date', 'crash_time', 'on_street_name',\n",
       "       'number_of_persons_injured', 'number_of_persons_killed',\n",
       "       'number_of_pedestrians_injured', 'number_of_pedestrians_killed',\n",
       "       'number_of_cyclist_injured', 'number_of_cyclist_killed',\n",
       "       'number_of_motorist_injured', 'number_of_motorist_killed',\n",
       "       'contributing_factor_vehicle_1', 'contributing_factor_vehicle_2',\n",
       "       'collision_id', 'vehicle_type_code1', 'vehicle_type_code2', 'borough',\n",
       "       'zip_code', 'latitude', 'longitude', 'location', 'off_street_name',\n",
       "       'contributing_factor_vehicle_3', 'vehicle_type_code_3',\n",
       "       'cross_street_name', 'contributing_factor_vehicle_4',\n",
       "       'vehicle_type_code_4', 'contributing_factor_vehicle_5',\n",
       "       'vehicle_type_code_5', 'crash_date_time', 'anio', 'mes', 'dia', 'hora'],\n",
       "      dtype='object')"
      ]
     },
     "execution_count": 33,
     "metadata": {},
     "output_type": "execute_result"
    }
   ],
   "source": [
    "choques_nyc.columns"
   ]
  },
  {
   "cell_type": "code",
   "execution_count": 34,
   "metadata": {},
   "outputs": [
    {
     "name": "stderr",
     "output_type": "stream",
     "text": [
      "C:\\Users\\Bauty\\AppData\\Local\\Temp\\ipykernel_17696\\1389101449.py:1: SettingWithCopyWarning: \n",
      "A value is trying to be set on a copy of a slice from a DataFrame.\n",
      "Try using .loc[row_indexer,col_indexer] = value instead\n",
      "\n",
      "See the caveats in the documentation: https://pandas.pydata.org/pandas-docs/stable/user_guide/indexing.html#returning-a-view-versus-a-copy\n",
      "  choques_nyc['tipo_causante']= choques_nyc['vehicle_type_code1']\n"
     ]
    }
   ],
   "source": [
    "choques_nyc['tipo_causante']= choques_nyc['vehicle_type_code1']"
   ]
  },
  {
   "cell_type": "code",
   "execution_count": 35,
   "metadata": {},
   "outputs": [
    {
     "name": "stderr",
     "output_type": "stream",
     "text": [
      "C:\\Users\\Bauty\\AppData\\Local\\Temp\\ipykernel_17696\\351116426.py:1: SettingWithCopyWarning: \n",
      "A value is trying to be set on a copy of a slice from a DataFrame\n",
      "\n",
      "See the caveats in the documentation: https://pandas.pydata.org/pandas-docs/stable/user_guide/indexing.html#returning-a-view-versus-a-copy\n",
      "  choques_nyc['vehicle_type_code1'].fillna(0, inplace=True)\n",
      "C:\\Users\\Bauty\\AppData\\Local\\Temp\\ipykernel_17696\\351116426.py:2: SettingWithCopyWarning: \n",
      "A value is trying to be set on a copy of a slice from a DataFrame\n",
      "\n",
      "See the caveats in the documentation: https://pandas.pydata.org/pandas-docs/stable/user_guide/indexing.html#returning-a-view-versus-a-copy\n",
      "  choques_nyc['vehicle_type_code2'].fillna(0, inplace=True)\n",
      "C:\\Users\\Bauty\\AppData\\Local\\Temp\\ipykernel_17696\\351116426.py:3: SettingWithCopyWarning: \n",
      "A value is trying to be set on a copy of a slice from a DataFrame\n",
      "\n",
      "See the caveats in the documentation: https://pandas.pydata.org/pandas-docs/stable/user_guide/indexing.html#returning-a-view-versus-a-copy\n",
      "  choques_nyc['vehicle_type_code_3'].fillna(0, inplace=True)\n",
      "C:\\Users\\Bauty\\AppData\\Local\\Temp\\ipykernel_17696\\351116426.py:4: SettingWithCopyWarning: \n",
      "A value is trying to be set on a copy of a slice from a DataFrame\n",
      "\n",
      "See the caveats in the documentation: https://pandas.pydata.org/pandas-docs/stable/user_guide/indexing.html#returning-a-view-versus-a-copy\n",
      "  choques_nyc['vehicle_type_code_4'].fillna(0, inplace=True)\n",
      "C:\\Users\\Bauty\\AppData\\Local\\Temp\\ipykernel_17696\\351116426.py:5: SettingWithCopyWarning: \n",
      "A value is trying to be set on a copy of a slice from a DataFrame\n",
      "\n",
      "See the caveats in the documentation: https://pandas.pydata.org/pandas-docs/stable/user_guide/indexing.html#returning-a-view-versus-a-copy\n",
      "  choques_nyc['vehicle_type_code_5'].fillna(0, inplace=True)\n"
     ]
    }
   ],
   "source": [
    "choques_nyc['vehicle_type_code1'].fillna(0, inplace=True)\n",
    "choques_nyc['vehicle_type_code2'].fillna(0, inplace=True)\n",
    "choques_nyc['vehicle_type_code_3'].fillna(0, inplace=True)\n",
    "choques_nyc['vehicle_type_code_4'].fillna(0, inplace=True)\n",
    "choques_nyc['vehicle_type_code_5'].fillna(0, inplace=True)"
   ]
  },
  {
   "cell_type": "code",
   "execution_count": 36,
   "metadata": {},
   "outputs": [],
   "source": [
    "choques_nyc.loc[(choques_nyc.vehicle_type_code1 != 0),'vehicle_type_code1']=1\n",
    "choques_nyc.loc[(choques_nyc.vehicle_type_code2 != 0),'vehicle_type_code2']=1\n",
    "choques_nyc.loc[(choques_nyc.vehicle_type_code_3 != 0),'vehicle_type_code_3']=1\n",
    "choques_nyc.loc[(choques_nyc.vehicle_type_code_4 != 0),'vehicle_type_code_4']=1\n",
    "choques_nyc.loc[(choques_nyc.vehicle_type_code_5 != 0),'vehicle_type_code_5']=1\n"
   ]
  },
  {
   "cell_type": "code",
   "execution_count": 37,
   "metadata": {},
   "outputs": [
    {
     "name": "stderr",
     "output_type": "stream",
     "text": [
      "C:\\Users\\Bauty\\AppData\\Local\\Temp\\ipykernel_17696\\893816337.py:1: SettingWithCopyWarning: \n",
      "A value is trying to be set on a copy of a slice from a DataFrame.\n",
      "Try using .loc[row_indexer,col_indexer] = value instead\n",
      "\n",
      "See the caveats in the documentation: https://pandas.pydata.org/pandas-docs/stable/user_guide/indexing.html#returning-a-view-versus-a-copy\n",
      "  choques_nyc['cantidad_autos_choque']= choques_nyc['vehicle_type_code1']+choques_nyc['vehicle_type_code2'] + choques_nyc['vehicle_type_code_3'] + choques_nyc['vehicle_type_code_4'] + choques_nyc['vehicle_type_code_5']\n"
     ]
    }
   ],
   "source": [
    "choques_nyc['cantidad_autos_choque']= choques_nyc['vehicle_type_code1']+choques_nyc['vehicle_type_code2'] + choques_nyc['vehicle_type_code_3'] + choques_nyc['vehicle_type_code_4'] + choques_nyc['vehicle_type_code_5']"
   ]
  },
  {
   "cell_type": "code",
   "execution_count": 38,
   "metadata": {},
   "outputs": [
    {
     "name": "stderr",
     "output_type": "stream",
     "text": [
      "C:\\Users\\Bauty\\AppData\\Local\\Temp\\ipykernel_17696\\325846073.py:1: SettingWithCopyWarning: \n",
      "A value is trying to be set on a copy of a slice from a DataFrame\n",
      "\n",
      "See the caveats in the documentation: https://pandas.pydata.org/pandas-docs/stable/user_guide/indexing.html#returning-a-view-versus-a-copy\n",
      "  choques_nyc['number_of_persons_injured'].fillna(0, inplace=True)\n",
      "C:\\Users\\Bauty\\AppData\\Local\\Temp\\ipykernel_17696\\325846073.py:2: SettingWithCopyWarning: \n",
      "A value is trying to be set on a copy of a slice from a DataFrame\n",
      "\n",
      "See the caveats in the documentation: https://pandas.pydata.org/pandas-docs/stable/user_guide/indexing.html#returning-a-view-versus-a-copy\n",
      "  choques_nyc['number_of_persons_killed'].fillna(0, inplace=True)\n",
      "C:\\Users\\Bauty\\AppData\\Local\\Temp\\ipykernel_17696\\325846073.py:3: SettingWithCopyWarning: \n",
      "A value is trying to be set on a copy of a slice from a DataFrame\n",
      "\n",
      "See the caveats in the documentation: https://pandas.pydata.org/pandas-docs/stable/user_guide/indexing.html#returning-a-view-versus-a-copy\n",
      "  choques_nyc['number_of_pedestrians_injured'].fillna(0, inplace=True)\n",
      "C:\\Users\\Bauty\\AppData\\Local\\Temp\\ipykernel_17696\\325846073.py:4: SettingWithCopyWarning: \n",
      "A value is trying to be set on a copy of a slice from a DataFrame\n",
      "\n",
      "See the caveats in the documentation: https://pandas.pydata.org/pandas-docs/stable/user_guide/indexing.html#returning-a-view-versus-a-copy\n",
      "  choques_nyc['number_of_pedestrians_killed'].fillna(0, inplace=True)\n",
      "C:\\Users\\Bauty\\AppData\\Local\\Temp\\ipykernel_17696\\325846073.py:5: SettingWithCopyWarning: \n",
      "A value is trying to be set on a copy of a slice from a DataFrame\n",
      "\n",
      "See the caveats in the documentation: https://pandas.pydata.org/pandas-docs/stable/user_guide/indexing.html#returning-a-view-versus-a-copy\n",
      "  choques_nyc['number_of_cyclist_injured'].fillna(0, inplace=True)\n",
      "C:\\Users\\Bauty\\AppData\\Local\\Temp\\ipykernel_17696\\325846073.py:6: SettingWithCopyWarning: \n",
      "A value is trying to be set on a copy of a slice from a DataFrame\n",
      "\n",
      "See the caveats in the documentation: https://pandas.pydata.org/pandas-docs/stable/user_guide/indexing.html#returning-a-view-versus-a-copy\n",
      "  choques_nyc['number_of_cyclist_killed'].fillna(0, inplace=True)\n",
      "C:\\Users\\Bauty\\AppData\\Local\\Temp\\ipykernel_17696\\325846073.py:7: SettingWithCopyWarning: \n",
      "A value is trying to be set on a copy of a slice from a DataFrame\n",
      "\n",
      "See the caveats in the documentation: https://pandas.pydata.org/pandas-docs/stable/user_guide/indexing.html#returning-a-view-versus-a-copy\n",
      "  choques_nyc['number_of_motorist_injured'].fillna(0, inplace=True)\n",
      "C:\\Users\\Bauty\\AppData\\Local\\Temp\\ipykernel_17696\\325846073.py:8: SettingWithCopyWarning: \n",
      "A value is trying to be set on a copy of a slice from a DataFrame\n",
      "\n",
      "See the caveats in the documentation: https://pandas.pydata.org/pandas-docs/stable/user_guide/indexing.html#returning-a-view-versus-a-copy\n",
      "  choques_nyc['number_of_motorist_killed'].fillna(0, inplace=True)\n"
     ]
    }
   ],
   "source": [
    "choques_nyc['number_of_persons_injured'].fillna(0, inplace=True)\n",
    "choques_nyc['number_of_persons_killed'].fillna(0, inplace=True)\n",
    "choques_nyc['number_of_pedestrians_injured'].fillna(0, inplace=True)\n",
    "choques_nyc['number_of_pedestrians_killed'].fillna(0, inplace=True)\n",
    "choques_nyc['number_of_cyclist_injured'].fillna(0, inplace=True)\n",
    "choques_nyc['number_of_cyclist_killed'].fillna(0, inplace=True)\n",
    "choques_nyc['number_of_motorist_injured'].fillna(0, inplace=True)\n",
    "choques_nyc['number_of_motorist_killed'].fillna(0, inplace=True)\n"
   ]
  },
  {
   "cell_type": "code",
   "execution_count": 39,
   "metadata": {},
   "outputs": [
    {
     "name": "stderr",
     "output_type": "stream",
     "text": [
      "C:\\Users\\Bauty\\AppData\\Local\\Temp\\ipykernel_17696\\2009192070.py:1: SettingWithCopyWarning: \n",
      "A value is trying to be set on a copy of a slice from a DataFrame.\n",
      "Try using .loc[row_indexer,col_indexer] = value instead\n",
      "\n",
      "See the caveats in the documentation: https://pandas.pydata.org/pandas-docs/stable/user_guide/indexing.html#returning-a-view-versus-a-copy\n",
      "  choques_nyc['number_of_persons_injured']=choques_nyc['number_of_persons_injured'].astype(int)\n",
      "C:\\Users\\Bauty\\AppData\\Local\\Temp\\ipykernel_17696\\2009192070.py:2: SettingWithCopyWarning: \n",
      "A value is trying to be set on a copy of a slice from a DataFrame.\n",
      "Try using .loc[row_indexer,col_indexer] = value instead\n",
      "\n",
      "See the caveats in the documentation: https://pandas.pydata.org/pandas-docs/stable/user_guide/indexing.html#returning-a-view-versus-a-copy\n",
      "  choques_nyc['number_of_persons_killed']= choques_nyc['number_of_persons_killed'].astype(int)\n",
      "C:\\Users\\Bauty\\AppData\\Local\\Temp\\ipykernel_17696\\2009192070.py:3: SettingWithCopyWarning: \n",
      "A value is trying to be set on a copy of a slice from a DataFrame.\n",
      "Try using .loc[row_indexer,col_indexer] = value instead\n",
      "\n",
      "See the caveats in the documentation: https://pandas.pydata.org/pandas-docs/stable/user_guide/indexing.html#returning-a-view-versus-a-copy\n",
      "  choques_nyc['number_of_pedestrians_injured']= choques_nyc['number_of_pedestrians_injured'].astype(int)\n",
      "C:\\Users\\Bauty\\AppData\\Local\\Temp\\ipykernel_17696\\2009192070.py:4: SettingWithCopyWarning: \n",
      "A value is trying to be set on a copy of a slice from a DataFrame.\n",
      "Try using .loc[row_indexer,col_indexer] = value instead\n",
      "\n",
      "See the caveats in the documentation: https://pandas.pydata.org/pandas-docs/stable/user_guide/indexing.html#returning-a-view-versus-a-copy\n",
      "  choques_nyc['number_of_pedestrians_killed']= choques_nyc['number_of_pedestrians_killed'].astype(int)\n",
      "C:\\Users\\Bauty\\AppData\\Local\\Temp\\ipykernel_17696\\2009192070.py:5: SettingWithCopyWarning: \n",
      "A value is trying to be set on a copy of a slice from a DataFrame.\n",
      "Try using .loc[row_indexer,col_indexer] = value instead\n",
      "\n",
      "See the caveats in the documentation: https://pandas.pydata.org/pandas-docs/stable/user_guide/indexing.html#returning-a-view-versus-a-copy\n",
      "  choques_nyc['number_of_cyclist_injured']= choques_nyc['number_of_cyclist_injured'].astype(int)\n",
      "C:\\Users\\Bauty\\AppData\\Local\\Temp\\ipykernel_17696\\2009192070.py:6: SettingWithCopyWarning: \n",
      "A value is trying to be set on a copy of a slice from a DataFrame.\n",
      "Try using .loc[row_indexer,col_indexer] = value instead\n",
      "\n",
      "See the caveats in the documentation: https://pandas.pydata.org/pandas-docs/stable/user_guide/indexing.html#returning-a-view-versus-a-copy\n",
      "  choques_nyc['number_of_cyclist_killed']= choques_nyc['number_of_cyclist_killed'].astype(int)\n",
      "C:\\Users\\Bauty\\AppData\\Local\\Temp\\ipykernel_17696\\2009192070.py:7: SettingWithCopyWarning: \n",
      "A value is trying to be set on a copy of a slice from a DataFrame.\n",
      "Try using .loc[row_indexer,col_indexer] = value instead\n",
      "\n",
      "See the caveats in the documentation: https://pandas.pydata.org/pandas-docs/stable/user_guide/indexing.html#returning-a-view-versus-a-copy\n",
      "  choques_nyc['number_of_motorist_injured']= choques_nyc['number_of_motorist_injured'].astype(int)\n",
      "C:\\Users\\Bauty\\AppData\\Local\\Temp\\ipykernel_17696\\2009192070.py:8: SettingWithCopyWarning: \n",
      "A value is trying to be set on a copy of a slice from a DataFrame.\n",
      "Try using .loc[row_indexer,col_indexer] = value instead\n",
      "\n",
      "See the caveats in the documentation: https://pandas.pydata.org/pandas-docs/stable/user_guide/indexing.html#returning-a-view-versus-a-copy\n",
      "  choques_nyc['number_of_motorist_killed']= choques_nyc['number_of_motorist_killed'].astype(int)\n"
     ]
    }
   ],
   "source": [
    "choques_nyc['number_of_persons_injured']=choques_nyc['number_of_persons_injured'].astype(int)\n",
    "choques_nyc['number_of_persons_killed']= choques_nyc['number_of_persons_killed'].astype(int)\n",
    "choques_nyc['number_of_pedestrians_injured']= choques_nyc['number_of_pedestrians_injured'].astype(int)\n",
    "choques_nyc['number_of_pedestrians_killed']= choques_nyc['number_of_pedestrians_killed'].astype(int)\n",
    "choques_nyc['number_of_cyclist_injured']= choques_nyc['number_of_cyclist_injured'].astype(int)\n",
    "choques_nyc['number_of_cyclist_killed']= choques_nyc['number_of_cyclist_killed'].astype(int)\n",
    "choques_nyc['number_of_motorist_injured']= choques_nyc['number_of_motorist_injured'].astype(int)\n",
    "choques_nyc['number_of_motorist_killed']= choques_nyc['number_of_motorist_killed'].astype(int)"
   ]
  },
  {
   "cell_type": "code",
   "execution_count": 40,
   "metadata": {},
   "outputs": [],
   "source": [
    "#choques_nyc.loc[(choques_nyc.number_of_persons_injured != 0),'number_of_persons_injured']=1\n",
    "#choques_nyc.loc[(choques_nyc.number_of_pedestrians_injured != 0),'number_of_pedestrians_injured']=1\n",
    "#choques_nyc.loc[(choques_nyc.number_of_cyclist_injured != 0),'number_of_cyclist_injured']=1\n",
    "#choques_nyc.loc[(choques_nyc.number_of_motorist_injured != 0),'number_of_motorist_injured']=1"
   ]
  },
  {
   "cell_type": "code",
   "execution_count": 41,
   "metadata": {},
   "outputs": [],
   "source": [
    "#choques_nyc.loc[(choques_nyc.number_of_persons_killed != 0),'number_of_persons_killed']=2\n",
    "#choques_nyc.loc[(choques_nyc.number_of_pedestrians_killed != 0),'number_of_pedestrians_killed']=2\n",
    "#choques_nyc.loc[(choques_nyc.number_of_cyclist_killed != 0),'number_of_cyclist_killed']=2\n",
    "#choques_nyc.loc[(choques_nyc.number_of_motorist_killed != 0),'number_of_motorist_killed']=2"
   ]
  },
  {
   "cell_type": "code",
   "execution_count": 42,
   "metadata": {},
   "outputs": [],
   "source": [
    "columnas=['number_of_persons_killed', 'number_of_pedestrians_killed', 'number_of_cyclist_killed', 'number_of_motorist_killed', 'number_of_persons_injured', 'number_of_pedestrians_injured', 'number_of_cyclist_injured', 'number_of_motorist_injured']"
   ]
  },
  {
   "cell_type": "code",
   "execution_count": 43,
   "metadata": {},
   "outputs": [],
   "source": [
    "#choques_nyc['letalidad'] = choques_nyc['number_of_persons_killed']+ choques_nyc['number_of_pedestrians_killed']+ choques_nyc['number_of_cyclist_killed']+choques_nyc['number_of_motorist_killed']+ choques_nyc['number_of_persons_injured']+ choques_nyc['number_of_pedestrians_injured']+ choques_nyc['number_of_cyclist_injured'] + choques_nyc['number_of_motorist_injured']"
   ]
  },
  {
   "cell_type": "code",
   "execution_count": 44,
   "metadata": {},
   "outputs": [
    {
     "name": "stderr",
     "output_type": "stream",
     "text": [
      "C:\\Users\\Bauty\\AppData\\Local\\Temp\\ipykernel_17696\\1600803060.py:1: SettingWithCopyWarning: \n",
      "A value is trying to be set on a copy of a slice from a DataFrame.\n",
      "Try using .loc[row_indexer,col_indexer] = value instead\n",
      "\n",
      "See the caveats in the documentation: https://pandas.pydata.org/pandas-docs/stable/user_guide/indexing.html#returning-a-view-versus-a-copy\n",
      "  choques_nyc['number_of_persons_killed'] = choques_nyc['number_of_persons_killed'].apply(lambda x: x*2)\n",
      "C:\\Users\\Bauty\\AppData\\Local\\Temp\\ipykernel_17696\\1600803060.py:2: SettingWithCopyWarning: \n",
      "A value is trying to be set on a copy of a slice from a DataFrame.\n",
      "Try using .loc[row_indexer,col_indexer] = value instead\n",
      "\n",
      "See the caveats in the documentation: https://pandas.pydata.org/pandas-docs/stable/user_guide/indexing.html#returning-a-view-versus-a-copy\n",
      "  choques_nyc['number_of_pedestrians_killed'] = choques_nyc['number_of_pedestrians_killed'].apply(lambda x: x*2)\n",
      "C:\\Users\\Bauty\\AppData\\Local\\Temp\\ipykernel_17696\\1600803060.py:3: SettingWithCopyWarning: \n",
      "A value is trying to be set on a copy of a slice from a DataFrame.\n",
      "Try using .loc[row_indexer,col_indexer] = value instead\n",
      "\n",
      "See the caveats in the documentation: https://pandas.pydata.org/pandas-docs/stable/user_guide/indexing.html#returning-a-view-versus-a-copy\n",
      "  choques_nyc['number_of_cyclist_killed'] = choques_nyc['number_of_cyclist_killed'].apply(lambda x: x*2)\n",
      "C:\\Users\\Bauty\\AppData\\Local\\Temp\\ipykernel_17696\\1600803060.py:4: SettingWithCopyWarning: \n",
      "A value is trying to be set on a copy of a slice from a DataFrame.\n",
      "Try using .loc[row_indexer,col_indexer] = value instead\n",
      "\n",
      "See the caveats in the documentation: https://pandas.pydata.org/pandas-docs/stable/user_guide/indexing.html#returning-a-view-versus-a-copy\n",
      "  choques_nyc['number_of_motorist_killed'] = choques_nyc['number_of_motorist_killed'].apply(lambda x: x*2)\n"
     ]
    }
   ],
   "source": [
    "choques_nyc['number_of_persons_killed'] = choques_nyc['number_of_persons_killed'].apply(lambda x: x*2)\n",
    "choques_nyc['number_of_pedestrians_killed'] = choques_nyc['number_of_pedestrians_killed'].apply(lambda x: x*2)\n",
    "choques_nyc['number_of_cyclist_killed'] = choques_nyc['number_of_cyclist_killed'].apply(lambda x: x*2)\n",
    "choques_nyc['number_of_motorist_killed'] = choques_nyc['number_of_motorist_killed'].apply(lambda x: x*2)"
   ]
  },
  {
   "cell_type": "code",
   "execution_count": 45,
   "metadata": {},
   "outputs": [
    {
     "name": "stderr",
     "output_type": "stream",
     "text": [
      "C:\\Users\\Bauty\\AppData\\Local\\Temp\\ipykernel_17696\\467996619.py:1: SettingWithCopyWarning: \n",
      "A value is trying to be set on a copy of a slice from a DataFrame.\n",
      "Try using .loc[row_indexer,col_indexer] = value instead\n",
      "\n",
      "See the caveats in the documentation: https://pandas.pydata.org/pandas-docs/stable/user_guide/indexing.html#returning-a-view-versus-a-copy\n",
      "  choques_nyc['letalidad']= choques_nyc[columnas].sum(axis=1)\n"
     ]
    }
   ],
   "source": [
    "choques_nyc['letalidad']= choques_nyc[columnas].sum(axis=1)"
   ]
  },
  {
   "cell_type": "code",
   "execution_count": 46,
   "metadata": {},
   "outputs": [
    {
     "data": {
      "text/plain": [
       "array([0, 2, 6, 4, 8], dtype=int64)"
      ]
     },
     "execution_count": 46,
     "metadata": {},
     "output_type": "execute_result"
    }
   ],
   "source": [
    "choques_nyc.number_of_motorist_killed.unique()"
   ]
  },
  {
   "cell_type": "code",
   "execution_count": 47,
   "metadata": {},
   "outputs": [
    {
     "data": {
      "text/plain": [
       "Index(['crash_date', 'crash_time', 'on_street_name',\n",
       "       'number_of_persons_injured', 'number_of_persons_killed',\n",
       "       'number_of_pedestrians_injured', 'number_of_pedestrians_killed',\n",
       "       'number_of_cyclist_injured', 'number_of_cyclist_killed',\n",
       "       'number_of_motorist_injured', 'number_of_motorist_killed',\n",
       "       'contributing_factor_vehicle_1', 'contributing_factor_vehicle_2',\n",
       "       'collision_id', 'vehicle_type_code1', 'vehicle_type_code2', 'borough',\n",
       "       'zip_code', 'latitude', 'longitude', 'location', 'off_street_name',\n",
       "       'contributing_factor_vehicle_3', 'vehicle_type_code_3',\n",
       "       'cross_street_name', 'contributing_factor_vehicle_4',\n",
       "       'vehicle_type_code_4', 'contributing_factor_vehicle_5',\n",
       "       'vehicle_type_code_5', 'crash_date_time', 'anio', 'mes', 'dia', 'hora',\n",
       "       'tipo_causante', 'cantidad_autos_choque', 'letalidad'],\n",
       "      dtype='object')"
      ]
     },
     "execution_count": 47,
     "metadata": {},
     "output_type": "execute_result"
    }
   ],
   "source": [
    "choques_nyc.columns"
   ]
  },
  {
   "cell_type": "code",
   "execution_count": 48,
   "metadata": {},
   "outputs": [
    {
     "name": "stderr",
     "output_type": "stream",
     "text": [
      "C:\\Users\\Bauty\\AppData\\Local\\Temp\\ipykernel_17696\\1203793138.py:1: SettingWithCopyWarning: \n",
      "A value is trying to be set on a copy of a slice from a DataFrame.\n",
      "Try using .loc[row_indexer,col_indexer] = value instead\n",
      "\n",
      "See the caveats in the documentation: https://pandas.pydata.org/pandas-docs/stable/user_guide/indexing.html#returning-a-view-versus-a-copy\n",
      "  choques_nyc['latitude']= choques_nyc['latitude'].astype(float)\n",
      "C:\\Users\\Bauty\\AppData\\Local\\Temp\\ipykernel_17696\\1203793138.py:2: SettingWithCopyWarning: \n",
      "A value is trying to be set on a copy of a slice from a DataFrame.\n",
      "Try using .loc[row_indexer,col_indexer] = value instead\n",
      "\n",
      "See the caveats in the documentation: https://pandas.pydata.org/pandas-docs/stable/user_guide/indexing.html#returning-a-view-versus-a-copy\n",
      "  choques_nyc['longitude']= choques_nyc['longitude'].astype(float)\n"
     ]
    }
   ],
   "source": [
    "choques_nyc['latitude']= choques_nyc['latitude'].astype(float)\n",
    "choques_nyc['longitude']= choques_nyc['longitude'].astype(float)"
   ]
  },
  {
   "cell_type": "code",
   "execution_count": 49,
   "metadata": {},
   "outputs": [],
   "source": [
    "choques_nyc=choques_nyc.dropna(subset=['latitude', 'longitude']).reset_index(drop=True)"
   ]
  },
  {
   "cell_type": "code",
   "execution_count": 50,
   "metadata": {},
   "outputs": [],
   "source": [
    "prototipo= pd.DataFrame().assign(id_choque=choques_nyc['collision_id'],fecha_y_hora= choques_nyc['crash_date_time'],anio= choques_nyc['anio'],mes=choques_nyc['mes'],dia=choques_nyc['dia'],latitud=choques_nyc['latitude'], longitud=choques_nyc['longitude'], auto_causante=choques_nyc['tipo_causante'],localidad=choques_nyc['borough'],codigo_potal=choques_nyc['zip_code'], cantidad_autos_choque=choques_nyc['cantidad_autos_choque'],letalidad=choques_nyc['letalidad'] )                                                           "
   ]
  },
  {
   "cell_type": "code",
   "execution_count": 51,
   "metadata": {},
   "outputs": [],
   "source": [
    "prototipo = prototipo.set_index('id_choque')\n"
   ]
  },
  {
   "cell_type": "code",
   "execution_count": null,
   "metadata": {},
   "outputs": [],
   "source": [
    "principal_sql=prototipo \n",
    "principal_sql.drop('fecha_y_hora', axis=1, inplace=True)"
   ]
  },
  {
   "cell_type": "code",
   "execution_count": 61,
   "metadata": {},
   "outputs": [
    {
     "data": {
      "text/plain": [
       "Index(['anio', 'mes', 'dia', 'latitud', 'longitud', 'auto_causante',\n",
       "       'localidad', 'codigo_potal', 'cantidad_autos_choque', 'letalidad'],\n",
       "      dtype='object')"
      ]
     },
     "execution_count": 61,
     "metadata": {},
     "output_type": "execute_result"
    }
   ],
   "source": [
    "prototipo.columns"
   ]
  },
  {
   "cell_type": "code",
   "execution_count": 60,
   "metadata": {},
   "outputs": [
    {
     "data": {
      "text/plain": [
       "Index(['anio', 'mes', 'dia', 'latitud', 'longitud', 'auto_causante',\n",
       "       'localidad', 'codigo_potal', 'cantidad_autos_choque', 'letalidad'],\n",
       "      dtype='object')"
      ]
     },
     "execution_count": 60,
     "metadata": {},
     "output_type": "execute_result"
    }
   ],
   "source": [
    "principal_sql.columns"
   ]
  },
  {
   "cell_type": "code",
   "execution_count": 67,
   "metadata": {},
   "outputs": [
    {
     "name": "stderr",
     "output_type": "stream",
     "text": [
      "C:\\Users\\Bauty\\AppData\\Local\\Temp\\ipykernel_17696\\1350600759.py:1: FutureWarning: The default value of regex will change from True to False in a future version.\n",
      "  prototipo['auto_causante']=prototipo['auto_causante'].str.replace('[^\\w\\s]', '')\n"
     ]
    }
   ],
   "source": [
    "prototipo['auto_causante']=prototipo['auto_causante'].str.replace('[^\\w\\s]', '')"
   ]
  },
  {
   "cell_type": "code",
   "execution_count": 69,
   "metadata": {},
   "outputs": [],
   "source": [
    "prototipo.to_csv('principal_sql.csv', sep='|')"
   ]
  }
 ],
 "metadata": {
  "kernelspec": {
   "display_name": "Python 3.10.4 64-bit",
   "language": "python",
   "name": "python3"
  },
  "language_info": {
   "codemirror_mode": {
    "name": "ipython",
    "version": 3
   },
   "file_extension": ".py",
   "mimetype": "text/x-python",
   "name": "python",
   "nbconvert_exporter": "python",
   "pygments_lexer": "ipython3",
   "version": "3.10.4"
  },
  "orig_nbformat": 4,
  "vscode": {
   "interpreter": {
    "hash": "25b44c992b1e01d7e4dc1c981b1b5ddffc1887561503d7e16189083896ca18fc"
   }
  }
 },
 "nbformat": 4,
 "nbformat_minor": 2
}
