{
 "cells": [
  {
   "cell_type": "code",
   "execution_count": 1,
   "metadata": {},
   "outputs": [],
   "source": [
    "import requests as rq\n",
    "import pandas as pd\n",
    "import numpy as np"
   ]
  },
  {
   "cell_type": "code",
   "execution_count": 2,
   "metadata": {},
   "outputs": [],
   "source": [
    "report_city_wide_statistics = {}\n",
    "report_city_wide_statistics_total = {}\n",
    "report_manhattan_statistics_intersections = {}\n",
    "report_manhattan_statistics_highways_bridges_tunnels = {}\n",
    "report_bronx_statistics_intersections = {}\n",
    "report_bronx_statistics_highways_bridges_tunnels = {}\n",
    "report_brooklyn_statistics_intersections = {}\n",
    "report_brooklyn_statistics_highways_bridges_tunnels = {}\n",
    "report_queens_statistics_intersections = {}\n",
    "report_queens_statistics_highways_bridges_tunnels = {}\n",
    "report_staten_island_statistics_intersections = {}\n",
    "report_staten_island_statistics_highways_bridges_tunnels = {}"
   ]
  },
  {
   "cell_type": "code",
   "execution_count": 3,
   "metadata": {},
   "outputs": [],
   "source": [
    "#downloads the city wide dataset, splits it into two to separate de data for total statistics and reformats the precinct code column\n",
    "def get_city_wide_statistics(o, p):\n",
    "    url = \"https://www1.nyc.gov/assets/nypd/downloads/excel/traffic_data/cityacc-en-us.xlsx\"\n",
    "    df = pd.read_excel(url, skiprows= 3, skipfooter= 4)\n",
    "    numbers = [str(num) for num in range(0,1000)]\n",
    "    for i in range(0, len(numbers)):\n",
    "        if len(numbers[i]) == 1:\n",
    "            numbers[i] = '00' + numbers[i]\n",
    "        elif len(numbers[i]) == 2:\n",
    "            numbers[i] = '0' + numbers[i]\n",
    "    df_total = df.loc[df['GeoCode'].isin(numbers)]\n",
    "    df_total.reset_index(drop= True, inplace= True)\n",
    "    df.drop(df[df['GeoCode'].isin(numbers)].index, inplace= True)\n",
    "    df.reset_index(drop= True, inplace= True)\n",
    "    df.rename(columns= {'GeoCode': 'OccurrencePrecinctCode'}, inplace= True)\n",
    "    df_total.rename(columns= {'GeoCode': 'OccurrencePrecinctCode'}, inplace= True)\n",
    "    return df_total, df"
   ]
  },
  {
   "cell_type": "code",
   "execution_count": 4,
   "metadata": {},
   "outputs": [],
   "source": [
    "#downloads the manhattan dataset and reformats the precinct code column\n",
    "def get_manhattan_statistics(o, p):\n",
    "    url_manhattan_intersections = \"https://www1.nyc.gov/assets/nypd/downloads/excel/traffic_data/mnacc-en-us.xlsx\"\n",
    "    df_manhattan_intersections = pd.read_excel(url_manhattan_intersections, skiprows= 3, skipfooter= 6)\n",
    "    numbers_intersections = list(df_manhattan_intersections.OccurrencePrecinctCode)\n",
    "    numbers_intersections = [str(n) for n in numbers_intersections]\n",
    "    for i in range(0, len(numbers_intersections)):\n",
    "        if len(numbers_intersections[i]) == 1:\n",
    "            numbers_intersections[i] = '00' + numbers_intersections[i]\n",
    "        elif len(numbers_intersections[i]) == 2:\n",
    "            numbers_intersections[i] = '0' + numbers_intersections[i]\n",
    "    df_manhattan_intersections.OccurrencePrecinctCode = numbers_intersections\n",
    "    url_manhattan_highways_bridges_tunnels = \"https://www1.nyc.gov/assets/nypd/downloads/excel/traffic_data/mnhacc-en-us.xlsx\"\n",
    "    df_manhattan_highways_bridges_tunnels = pd.read_excel(url_manhattan_highways_bridges_tunnels, skiprows= 4, skipfooter= 6)\n",
    "    numbers_highways_bridges_tunnels = list(df_manhattan_highways_bridges_tunnels.OccurrencePrecinctCode)\n",
    "    numbers_highways_bridges_tunnels = [str(n) for n in numbers_highways_bridges_tunnels]\n",
    "    for i in range(0, len(numbers_highways_bridges_tunnels)):\n",
    "        if len(numbers_highways_bridges_tunnels[i]) == 1:\n",
    "            numbers_highways_bridges_tunnels[i] = '00' + numbers_highways_bridges_tunnels[i]\n",
    "        elif len(numbers_highways_bridges_tunnels[i]) == 2:\n",
    "            numbers_highways_bridges_tunnels[i] = '0' + numbers_highways_bridges_tunnels[i]\n",
    "    df_manhattan_highways_bridges_tunnels.OccurrencePrecinctCode = numbers_highways_bridges_tunnels\n",
    "    return df_manhattan_intersections, df_manhattan_highways_bridges_tunnels"
   ]
  },
  {
   "cell_type": "code",
   "execution_count": 5,
   "metadata": {},
   "outputs": [],
   "source": [
    "#downloads the bronx dataset and reformats the precinct code column\n",
    "def get_bronx_statistics(o, p):\n",
    "    url_bronx_intersections = \"https://www1.nyc.gov/assets/nypd/downloads/excel/traffic_data/bxacc-en-us.xlsx\"\n",
    "    df_bronx_intersections = pd.read_excel(url_bronx_intersections, skiprows= 3, skipfooter= 6)\n",
    "    numbers_intersections = list(df_bronx_intersections.OccurrencePrecinctCode)\n",
    "    numbers_intersections = [str(n) for n in numbers_intersections]\n",
    "    for i in range(0, len(numbers_intersections)):\n",
    "        if len(numbers_intersections[i]) == 1:\n",
    "            numbers_intersections[i] = '00' + numbers_intersections[i]\n",
    "        elif len(numbers_intersections[i]) == 2:\n",
    "            numbers_intersections[i] = '0' + numbers_intersections[i]\n",
    "    df_bronx_intersections.OccurrencePrecinctCode = numbers_intersections\n",
    "    url_bronx_highways_bridges_tunnels = \"https://www1.nyc.gov/assets/nypd/downloads/excel/traffic_data/bxhacc-en-us.xlsx\"\n",
    "    df_bronx_highways_bridges_tunnels = pd.read_excel(url_bronx_highways_bridges_tunnels, skiprows= 4, skipfooter= 6)\n",
    "    numbers_highways_bridges_tunnels = list(df_bronx_highways_bridges_tunnels.OccurrencePrecinctCode)\n",
    "    numbers_highways_bridges_tunnels = [str(n) for n in numbers_highways_bridges_tunnels]\n",
    "    for i in range(0, len(numbers_highways_bridges_tunnels)):\n",
    "        if len(numbers_highways_bridges_tunnels[i]) == 1:\n",
    "            numbers_highways_bridges_tunnels[i] = '00' + numbers_highways_bridges_tunnels[i]\n",
    "        elif len(numbers_highways_bridges_tunnels[i]) == 2:\n",
    "            numbers_highways_bridges_tunnels[i] = '0' + numbers_highways_bridges_tunnels[i]\n",
    "    df_bronx_highways_bridges_tunnels.OccurrencePrecinctCode = numbers_highways_bridges_tunnels\n",
    "    return df_bronx_intersections, df_bronx_highways_bridges_tunnels"
   ]
  },
  {
   "cell_type": "code",
   "execution_count": 6,
   "metadata": {},
   "outputs": [],
   "source": [
    "#downloads the brooklyn dataset and reformats the precinct code column\n",
    "def get_brooklyn_statistics(o, p):\n",
    "    url_brooklyn_intersections = \"https://www1.nyc.gov/assets/nypd/downloads/excel/traffic_data/bkacc-en-us.xlsx\"\n",
    "    df_brooklyn_intersections = pd.read_excel(url_brooklyn_intersections, skiprows= 3, skipfooter= 6)\n",
    "    numbers_intersections = list(df_brooklyn_intersections.OccurrencePrecinctCode)\n",
    "    numbers_intersections = [str(n) for n in numbers_intersections]\n",
    "    for i in range(0, len(numbers_intersections)):\n",
    "        if len(numbers_intersections[i]) == 1:\n",
    "            numbers_intersections[i] = '00' + numbers_intersections[i]\n",
    "        elif len(numbers_intersections[i]) == 2:\n",
    "            numbers_intersections[i] = '0' + numbers_intersections[i]\n",
    "    df_brooklyn_intersections.OccurrencePrecinctCode = numbers_intersections\n",
    "    url_brooklyn_highways_bridges_tunnels = \"https://www1.nyc.gov/assets/nypd/downloads/excel/traffic_data/bkhacc-en-us.xlsx\"\n",
    "    df_brooklyn_highways_bridges_tunnels = pd.read_excel(url_brooklyn_highways_bridges_tunnels, skiprows= 4, skipfooter= 6)\n",
    "    numbers_highways_bridges_tunnels = list(df_brooklyn_highways_bridges_tunnels.OccurrencePrecinctCode)\n",
    "    numbers_highways_bridges_tunnels = [str(n) for n in numbers_highways_bridges_tunnels]\n",
    "    for i in range(0, len(numbers_highways_bridges_tunnels)):\n",
    "        if len(numbers_highways_bridges_tunnels[i]) == 1:\n",
    "            numbers_highways_bridges_tunnels[i] = '00' + numbers_highways_bridges_tunnels[i]\n",
    "        elif len(numbers_highways_bridges_tunnels[i]) == 2:\n",
    "            numbers_highways_bridges_tunnels[i] = '0' + numbers_highways_bridges_tunnels[i]\n",
    "    df_brooklyn_highways_bridges_tunnels.OccurrencePrecinctCode = numbers_highways_bridges_tunnels\n",
    "    return df_brooklyn_intersections, df_brooklyn_highways_bridges_tunnels"
   ]
  },
  {
   "cell_type": "code",
   "execution_count": 7,
   "metadata": {},
   "outputs": [],
   "source": [
    "#downloads the queens dataset and reformats the precinct code column\n",
    "def get_queens_statistics(o, p):\n",
    "    url_queens_intersections = \"https://www1.nyc.gov/assets/nypd/downloads/excel/traffic_data/qnacc-en-us.xlsx\"\n",
    "    df_queens_intersections = pd.read_excel(url_queens_intersections, skiprows= 3, skipfooter= 6)\n",
    "    numbers_intersections = list(df_queens_intersections.OccurrencePrecinctCode)\n",
    "    numbers_intersections = [str(n) for n in numbers_intersections]\n",
    "    for i in range(0, len(numbers_intersections)):\n",
    "        if len(numbers_intersections[i]) == 1:\n",
    "            numbers_intersections[i] = '00' + numbers_intersections[i]\n",
    "        elif len(numbers_intersections[i]) == 2:\n",
    "            numbers_intersections[i] = '0' + numbers_intersections[i]\n",
    "    df_queens_intersections.OccurrencePrecinctCode = numbers_intersections\n",
    "    url_queens_highways_bridges_tunnels = \"https://www1.nyc.gov/assets/nypd/downloads/excel/traffic_data/qnhacc-en-us.xlsx\"\n",
    "    df_queens_highways_bridges_tunnels = pd.read_excel(url_queens_highways_bridges_tunnels, skiprows= 4, skipfooter= 6)\n",
    "    numbers_highways_bridges_tunnels = list(df_queens_highways_bridges_tunnels.OccurrencePrecinctCode)\n",
    "    numbers_highways_bridges_tunnels = [str(n) for n in numbers_highways_bridges_tunnels]\n",
    "    for i in range(0, len(numbers_highways_bridges_tunnels)):\n",
    "        if len(numbers_highways_bridges_tunnels[i]) == 1:\n",
    "            numbers_highways_bridges_tunnels[i] = '00' + numbers_highways_bridges_tunnels[i]\n",
    "        elif len(numbers_highways_bridges_tunnels[i]) == 2:\n",
    "            numbers_highways_bridges_tunnels[i] = '0' + numbers_highways_bridges_tunnels[i]\n",
    "    df_queens_highways_bridges_tunnels.OccurrencePrecinctCode = numbers_highways_bridges_tunnels\n",
    "    return df_queens_intersections, df_queens_highways_bridges_tunnels"
   ]
  },
  {
   "cell_type": "code",
   "execution_count": 8,
   "metadata": {},
   "outputs": [],
   "source": [
    "#downloads the staten island dataset and reformats the precinct code column\n",
    "def get_staten_island_statistics(o, p):\n",
    "    url_staten_island_intersections = \"https://www1.nyc.gov/assets/nypd/downloads/excel/traffic_data/siacc-en-us.xlsx\"\n",
    "    df_staten_island_intersections = pd.read_excel(url_staten_island_intersections, skiprows= 3, skipfooter= 6)\n",
    "    numbers_intersections = list(df_staten_island_intersections.OccurrencePrecinctCode)\n",
    "    numbers_intersections = [str(n) for n in numbers_intersections]\n",
    "    for i in range(0, len(numbers_intersections)):\n",
    "        if len(numbers_intersections[i]) == 1:\n",
    "            numbers_intersections[i] = '00' + numbers_intersections[i]\n",
    "        elif len(numbers_intersections[i]) == 2:\n",
    "            numbers_intersections[i] = '0' + numbers_intersections[i]\n",
    "    df_staten_island_intersections.OccurrencePrecinctCode = numbers_intersections\n",
    "    url_staten_island_highways_bridges_tunnels = \"https://www1.nyc.gov/assets/nypd/downloads/excel/traffic_data/sihacc-en-us.xlsx\"\n",
    "    df_staten_island_highways_bridges_tunnels = pd.read_excel(url_staten_island_highways_bridges_tunnels, skiprows= 4, skipfooter= 6)\n",
    "    numbers_highways_bridges_tunnels = list(df_staten_island_highways_bridges_tunnels.OccurrencePrecinctCode)\n",
    "    numbers_highways_bridges_tunnels = [str(n) for n in numbers_highways_bridges_tunnels]\n",
    "    for i in range(0, len(numbers_highways_bridges_tunnels)):\n",
    "        if len(numbers_highways_bridges_tunnels[i]) == 1:\n",
    "            numbers_highways_bridges_tunnels[i] = '00' + numbers_highways_bridges_tunnels[i]\n",
    "        elif len(numbers_highways_bridges_tunnels[i]) == 2:\n",
    "            numbers_highways_bridges_tunnels[i] = '0' + numbers_highways_bridges_tunnels[i]\n",
    "    df_staten_island_highways_bridges_tunnels.OccurrencePrecinctCode = numbers_highways_bridges_tunnels\n",
    "    return df_staten_island_intersections, df_staten_island_highways_bridges_tunnels"
   ]
  },
  {
   "cell_type": "code",
   "execution_count": 9,
   "metadata": {},
   "outputs": [],
   "source": [
    "#you can use this function to download all the datasets instead of one in particular\n",
    "def get_all_data(a,b,c,d,e,f,g,h,i,j,k,l):\n",
    "    report_city_wide_statistics = {}\n",
    "    report_city_wide_statistics_total = {}\n",
    "    report_manhattan_statistics_intersections = {}\n",
    "    report_manhattan_statistics_highways_bridges_tunnels = {}\n",
    "    report_bronx_statistics_intersections = {}\n",
    "    report_bronx_statistics_highways_bridges_tunnels = {}\n",
    "    report_brooklyn_statistics_intersections = {}\n",
    "    report_brooklyn_statistics_highways_bridges_tunnels = {}\n",
    "    report_queens_statistics_intersections = {}\n",
    "    report_queens_statistics_highways_bridges_tunnels = {}\n",
    "    report_staten_island_statistics_intersections = {}\n",
    "    report_staten_island_statistics_highways_bridges_tunnels = {}\n",
    "    report_city_wide_statistics, report_city_wide_statistics_total = get_city_wide_statistics(report_city_wide_statistics, report_city_wide_statistics_total)\n",
    "    report_manhattan_statistics_intersections, report_manhattan_statistics_highways_bridges_tunnels = get_manhattan_statistics(report_manhattan_statistics_intersections, report_manhattan_statistics_highways_bridges_tunnels)\n",
    "    report_bronx_statistics_intersections, report_bronx_statistics_highways_bridges_tunnels = get_bronx_statistics(report_bronx_statistics_intersections, report_bronx_statistics_highways_bridges_tunnels)\n",
    "    report_brooklyn_statistics_intersections, report_brooklyn_statistics_highways_bridges_tunnels = get_brooklyn_statistics(report_brooklyn_statistics_intersections, report_brooklyn_statistics_highways_bridges_tunnels)\n",
    "    report_queens_statistics_intersections, report_queens_statistics_highways_bridges_tunnels = get_queens_statistics(report_queens_statistics_intersections, report_queens_statistics_highways_bridges_tunnels)\n",
    "    report_staten_island_statistics_intersections, report_staten_island_statistics_highways_bridges_tunnels = get_staten_island_statistics(report_staten_island_statistics_intersections, report_staten_island_statistics_highways_bridges_tunnels)\n",
    "    return report_city_wide_statistics, report_city_wide_statistics_total, report_manhattan_statistics_intersections, report_manhattan_statistics_highways_bridges_tunnels, report_bronx_statistics_intersections, report_bronx_statistics_highways_bridges_tunnels, report_brooklyn_statistics_intersections, report_brooklyn_statistics_highways_bridges_tunnels, report_queens_statistics_intersections, report_queens_statistics_highways_bridges_tunnels, report_staten_island_statistics_intersections, report_staten_island_statistics_highways_bridges_tunnels"
   ]
  },
  {
   "cell_type": "code",
   "execution_count": 10,
   "metadata": {},
   "outputs": [],
   "source": [
    "#adds the borough column to the report_city_wide_statistics dataset to know in which borough the collision happened\n",
    "def add_borough_column(city_wide):\n",
    "    city_wide_borough = []\n",
    "    city_wide_codes = list(report_city_wide_statistics.OccurrencePrecinctCode.unique())\n",
    "    city_wide_codes = [int(n) for n in city_wide_codes]\n",
    "    manhattan_codes = list(report_manhattan_statistics_intersections.OccurrencePrecinctCode.unique())\n",
    "    manhattan_codes = [int(n) for n in manhattan_codes]\n",
    "    bronx_codes = list(report_bronx_statistics_intersections.OccurrencePrecinctCode.unique())\n",
    "    bronx_codes = [int(n) for n in bronx_codes]\n",
    "    brooklyn_codes = list(report_brooklyn_statistics_intersections.OccurrencePrecinctCode.unique())\n",
    "    brooklyn_codes = [int(n) for n in brooklyn_codes]\n",
    "    queens_codes = list(report_queens_statistics_intersections.OccurrencePrecinctCode.unique())\n",
    "    queens_codes = [int(n) for n in queens_codes]\n",
    "    staten_island_codes = list(report_staten_island_statistics_intersections.OccurrencePrecinctCode.unique())\n",
    "    staten_island_codes = [int(n) for n in staten_island_codes]\n",
    "    for code in city_wide_codes:\n",
    "        if code in manhattan_codes:\n",
    "            city_wide_borough.append('MANHATTAN')\n",
    "        elif code in bronx_codes:\n",
    "            city_wide_borough.append('BRONX')\n",
    "        elif code in brooklyn_codes:\n",
    "            city_wide_borough.append('BROOKLYN')\n",
    "        elif code in queens_codes:\n",
    "            city_wide_borough.append('QUEENS')\n",
    "        elif code in staten_island_codes:\n",
    "            city_wide_borough.append('STATEN ISLAND')\n",
    "    city_wide.insert(2, 'Borough', city_wide_borough)\n",
    "    return city_wide"
   ]
  },
  {
   "cell_type": "code",
   "execution_count": 11,
   "metadata": {},
   "outputs": [
    {
     "name": "stderr",
     "output_type": "stream",
     "text": [
      "C:\\Users\\Kevin\\AppData\\Local\\Temp\\ipykernel_18352\\306506520.py:15: SettingWithCopyWarning: \n",
      "A value is trying to be set on a copy of a slice from a DataFrame\n",
      "\n",
      "See the caveats in the documentation: https://pandas.pydata.org/pandas-docs/stable/user_guide/indexing.html#returning-a-view-versus-a-copy\n",
      "  df_total.rename(columns= {'GeoCode': 'OccurrencePrecinctCode'}, inplace= True)\n"
     ]
    }
   ],
   "source": [
    "#this cell downloads all datasets and adds the extra column to report_city_wide_statistics\n",
    "report_city_wide_statistics, report_city_wide_statistics_total, report_manhattan_statistics_intersections, report_manhattan_statistics_highways_bridges_tunnels, report_bronx_statistics_intersections, report_bronx_statistics_highways_bridges_tunnels, report_brooklyn_statistics_intersections, report_brooklyn_statistics_highways_bridges_tunnels, report_queens_statistics_intersections, report_queens_statistics_highways_bridges_tunnels, report_staten_island_statistics_intersections, report_staten_island_statistics_highways_bridges_tunnels = get_all_data(report_city_wide_statistics, report_city_wide_statistics_total, report_manhattan_statistics_intersections, report_manhattan_statistics_highways_bridges_tunnels, report_bronx_statistics_intersections, report_bronx_statistics_highways_bridges_tunnels, report_brooklyn_statistics_intersections, report_brooklyn_statistics_highways_bridges_tunnels, report_queens_statistics_intersections, report_queens_statistics_highways_bridges_tunnels, report_staten_island_statistics_intersections, report_staten_island_statistics_highways_bridges_tunnels)\n",
    "report_city_wide_statistics = add_borough_column(report_city_wide_statistics)"
   ]
  },
  {
   "cell_type": "code",
   "execution_count": 12,
   "metadata": {},
   "outputs": [],
   "source": [
    "#This is simply for saving the CSVs from the month of july for future use\n",
    "report_city_wide_statistics.to_csv('report_city_wide_statistics.csv', index= False, encoding= 'utf-8')\n",
    "report_city_wide_statistics_total.to_csv('report_city_wide_statistics_total.csv', index= False, encoding= 'utf-8')\n",
    "report_manhattan_statistics_intersections.to_csv('report_manhattan_statistics_intersections.csv', index= False, encoding= 'utf-8')\n",
    "report_manhattan_statistics_highways_bridges_tunnels.to_csv('report_manhattan_statistics_highways_bridges_tunnels.csv', index= False, encoding= 'utf-8')\n",
    "report_bronx_statistics_intersections.to_csv('report_bronx_statistics_intersections.csv', index= False, encoding= 'utf-8')\n",
    "report_bronx_statistics_highways_bridges_tunnels.to_csv('report_bronx_statistics_highways_bridges_tunnels.csv', index= False, encoding= 'utf-8')\n",
    "report_brooklyn_statistics_intersections.to_csv('report_brooklyn_statistics_intersections.csv', index= False, encoding= 'utf-8')\n",
    "report_brooklyn_statistics_highways_bridges_tunnels.to_csv('report_brooklyn_statistics_highways_bridges_tunnels.csv', index= False, encoding= 'utf-8')\n",
    "report_queens_statistics_intersections.to_csv('report_queens_statistics_intersections.csv', index= False, encoding= 'utf-8')\n",
    "report_queens_statistics_highways_bridges_tunnels.to_csv('report_queens_statistics_highways_bridges_tunnels.csv', index= False, encoding= 'utf-8')\n",
    "report_staten_island_statistics_intersections.to_csv('report_staten_island_statistics_intersections.csv', index= False, encoding= 'utf-8')\n",
    "report_staten_island_statistics_highways_bridges_tunnels.to_csv('report_staten_island_statistics_highways_bridges_tunnels.csv', index= False, encoding= 'utf-8')"
   ]
  }
 ],
 "metadata": {
  "kernelspec": {
   "display_name": "Python 3.10.4 64-bit",
   "language": "python",
   "name": "python3"
  },
  "language_info": {
   "codemirror_mode": {
    "name": "ipython",
    "version": 3
   },
   "file_extension": ".py",
   "mimetype": "text/x-python",
   "name": "python",
   "nbconvert_exporter": "python",
   "pygments_lexer": "ipython3",
   "version": "3.10.4"
  },
  "orig_nbformat": 4,
  "vscode": {
   "interpreter": {
    "hash": "06d3ad103a38a5e5980b0a2ddf222334b9b3630c94a7e75a8e45e8afe280f469"
   }
  }
 },
 "nbformat": 4,
 "nbformat_minor": 2
}
