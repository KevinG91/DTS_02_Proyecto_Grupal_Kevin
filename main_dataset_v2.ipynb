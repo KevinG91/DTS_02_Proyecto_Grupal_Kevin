{
 "cells": [
  {
   "cell_type": "code",
   "execution_count": 94,
   "metadata": {},
   "outputs": [],
   "source": [
    "import pandas as pd\n",
    "import numpy as np\n",
    "import pprint\n",
    "import itertools\n",
    "import random\n",
    "from collections import Counter as ctr\n",
    "from sodapy import Socrata\n",
    "import geopy\n",
    "from geopy.geocoders import Nominatim"
   ]
  },
  {
   "cell_type": "code",
   "execution_count": 95,
   "metadata": {},
   "outputs": [],
   "source": [
    "client_choques_nyc = Socrata('data.cityofnewyork.us',\n",
    "                  'P5yEsPDgBpkSlfs3G7Kg0DM6o',)\n",
    "\n",
    "client_robo = Socrata('data.cityofnewyork.us',\n",
    "                  'P5yEsPDgBpkSlfs3G7Kg0DM6o',)\n",
    "\n",
    "client_edad = Socrata('data.cityofnewyork.us',\n",
    "                  'P5yEsPDgBpkSlfs3G7Kg0DM6o',)"
   ]
  },
  {
   "cell_type": "code",
   "execution_count": 96,
   "metadata": {},
   "outputs": [],
   "source": [
    "results_choques_nyc = client_choques_nyc.get(\"h9gi-nx95\", limit=1920000)\n",
    "results_df_choques_nyc = pd.DataFrame.from_records(results_choques_nyc)\n",
    "\n",
    "results_robo = client_robo.get(\"5uac-w243\", limit=258000)\n",
    "results_df_robo = pd.DataFrame.from_records(results_robo)\n",
    "\n",
    "results_edad = client_edad.get(\"bm4k-52h4\", limit=3700000)\n",
    "results_df_edad = pd.DataFrame.from_records(results_edad)"
   ]
  },
  {
   "cell_type": "code",
   "execution_count": 97,
   "metadata": {},
   "outputs": [],
   "source": [
    "results_df_choques_nyc['crash_date'].replace({'T00:00:00.000':''}, regex=True, inplace=True)\n",
    "results_df_choques_nyc['crash_date_time']=pd.to_datetime(results_df_choques_nyc['crash_date'] + results_df_choques_nyc['crash_time'], format='%Y-%m-%d%H:%M')"
   ]
  },
  {
   "cell_type": "code",
   "execution_count": 98,
   "metadata": {},
   "outputs": [],
   "source": [
    "choques_nyc=results_df_choques_nyc[results_df_choques_nyc['crash_date_time'].dt.year.isin([2019,2020,2021,2022])]"
   ]
  },
  {
   "cell_type": "code",
   "execution_count": 99,
   "metadata": {},
   "outputs": [
    {
     "name": "stderr",
     "output_type": "stream",
     "text": [
      "C:\\Users\\Kevin\\AppData\\Local\\Temp\\ipykernel_19020\\756886217.py:2: SettingWithCopyWarning: \n",
      "A value is trying to be set on a copy of a slice from a DataFrame\n",
      "\n",
      "See the caveats in the documentation: https://pandas.pydata.org/pandas-docs/stable/user_guide/indexing.html#returning-a-view-versus-a-copy\n",
      "  choques_nyc.rename(columns= {'crash_date_time': 'colision_fecha_hora',\n"
     ]
    },
    {
     "data": {
      "text/html": [
       "<div>\n",
       "<style scoped>\n",
       "    .dataframe tbody tr th:only-of-type {\n",
       "        vertical-align: middle;\n",
       "    }\n",
       "\n",
       "    .dataframe tbody tr th {\n",
       "        vertical-align: top;\n",
       "    }\n",
       "\n",
       "    .dataframe thead th {\n",
       "        text-align: right;\n",
       "    }\n",
       "</style>\n",
       "<table border=\"1\" class=\"dataframe\">\n",
       "  <thead>\n",
       "    <tr style=\"text-align: right;\">\n",
       "      <th></th>\n",
       "      <th>colision_fecha</th>\n",
       "      <th>colision_hora</th>\n",
       "      <th>latitud</th>\n",
       "      <th>longitud</th>\n",
       "      <th>ubicacion</th>\n",
       "      <th>nombre_de_calle</th>\n",
       "      <th>numero_de_personas_heridas</th>\n",
       "      <th>numero_de_personas_fallecidas</th>\n",
       "      <th>numero_de_peatones_heridos</th>\n",
       "      <th>numero_de_peatones_fallecidos</th>\n",
       "      <th>...</th>\n",
       "      <th>codigo_postal</th>\n",
       "      <th>calle_interseccion</th>\n",
       "      <th>nombre_fuera_de_calle</th>\n",
       "      <th>factor_contribuyente_vehiculo_3</th>\n",
       "      <th>factor_contribuyente_vehiculo_4</th>\n",
       "      <th>codigo_tipo_de_vehiculo_3</th>\n",
       "      <th>codigo_tipo_de_vehiculo_4</th>\n",
       "      <th>factor_contribuyente_vehiculo_5</th>\n",
       "      <th>codigo_tipo_de_vehiculo_5</th>\n",
       "      <th>colision_fecha_hora</th>\n",
       "    </tr>\n",
       "  </thead>\n",
       "  <tbody>\n",
       "    <tr>\n",
       "      <th>0</th>\n",
       "      <td>2022-07-20</td>\n",
       "      <td>1:25</td>\n",
       "      <td>40.835808</td>\n",
       "      <td>-73.89083</td>\n",
       "      <td>{'latitude': '40.835808', 'longitude': '-73.89...</td>\n",
       "      <td>BOSTON ROAD</td>\n",
       "      <td>0</td>\n",
       "      <td>0</td>\n",
       "      <td>0</td>\n",
       "      <td>0</td>\n",
       "      <td>...</td>\n",
       "      <td>NaN</td>\n",
       "      <td>NaN</td>\n",
       "      <td>NaN</td>\n",
       "      <td>NaN</td>\n",
       "      <td>NaN</td>\n",
       "      <td>NaN</td>\n",
       "      <td>NaN</td>\n",
       "      <td>NaN</td>\n",
       "      <td>NaN</td>\n",
       "      <td>2022-07-20 01:25:00</td>\n",
       "    </tr>\n",
       "  </tbody>\n",
       "</table>\n",
       "<p>1 rows × 30 columns</p>\n",
       "</div>"
      ],
      "text/plain": [
       "  colision_fecha colision_hora    latitud   longitud  \\\n",
       "0     2022-07-20          1:25  40.835808  -73.89083   \n",
       "\n",
       "                                           ubicacion nombre_de_calle  \\\n",
       "0  {'latitude': '40.835808', 'longitude': '-73.89...     BOSTON ROAD   \n",
       "\n",
       "  numero_de_personas_heridas numero_de_personas_fallecidas  \\\n",
       "0                          0                             0   \n",
       "\n",
       "  numero_de_peatones_heridos numero_de_peatones_fallecidos  ... codigo_postal  \\\n",
       "0                          0                             0  ...           NaN   \n",
       "\n",
       "  calle_interseccion nombre_fuera_de_calle factor_contribuyente_vehiculo_3  \\\n",
       "0                NaN                   NaN                             NaN   \n",
       "\n",
       "  factor_contribuyente_vehiculo_4 codigo_tipo_de_vehiculo_3  \\\n",
       "0                             NaN                       NaN   \n",
       "\n",
       "  codigo_tipo_de_vehiculo_4 factor_contribuyente_vehiculo_5  \\\n",
       "0                       NaN                             NaN   \n",
       "\n",
       "  codigo_tipo_de_vehiculo_5 colision_fecha_hora  \n",
       "0                       NaN 2022-07-20 01:25:00  \n",
       "\n",
       "[1 rows x 30 columns]"
      ]
     },
     "execution_count": 99,
     "metadata": {},
     "output_type": "execute_result"
    }
   ],
   "source": [
    "#traduccion de columnas\n",
    "choques_nyc.rename(columns= {'crash_date_time': 'colision_fecha_hora',\n",
    " 'crash_date': 'colision_fecha',\n",
    " 'crash_time': 'colision_hora',\n",
    " 'on_street_name': 'nombre_de_calle',\n",
    " 'off_street_name': 'nombre_fuera_de_calle',\n",
    " 'cross_street_name': 'calle_interseccion',\n",
    " 'number_of_persons_injured': 'numero_de_personas_heridas',\n",
    " 'number_of_persons_killed': 'numero_de_personas_fallecidas',\n",
    " 'number_of_pedestrians_injured': 'numero_de_peatones_heridos',\n",
    " 'number_of_pedestrians_killed': 'numero_de_peatones_fallecidos',\n",
    " 'number_of_cyclist_injured': 'numero_de_ciclistas_heridos',\n",
    " 'number_of_cyclist_killed': 'numero_de_ciclistas_fallecidos',\n",
    " 'number_of_motorist_injured': 'numero_de_conductores_heridos',\n",
    " 'number_of_motorist_killed': 'numero_de_conductores_fallecidos',\n",
    " 'contributing_factor_vehicle_1': 'factor_contribuyente_vehiculo_1',\n",
    " 'contributing_factor_vehicle_2': 'factor_contribuyente_vehiculo_2',\n",
    " 'collision_id': 'colision_ID',\n",
    " 'vehicle_type_code1': 'codigo_tipo_de_vehiculo_1',\n",
    " 'vehicle_type_code2': 'codigo_tipo_de_vehiculo_2',\n",
    " 'borough': 'localidad',\n",
    " 'zip_code': 'codigo_postal',\n",
    " 'latitude': 'latitud',\n",
    " 'longitude': 'longitud',\n",
    " 'location': 'ubicacion',\n",
    " 'contributing_factor_vehicle_3': 'factor_contribuyente_vehiculo_3',\n",
    " 'vehicle_type_code_3': 'codigo_tipo_de_vehiculo_3',\n",
    " 'contributing_factor_vehicle_4': 'factor_contribuyente_vehiculo_4',\n",
    " 'vehicle_type_code_4': 'codigo_tipo_de_vehiculo_4',\n",
    " 'contributing_factor_vehicle_5': 'factor_contribuyente_vehiculo_5',\n",
    " 'vehicle_type_code_5': 'codigo_tipo_de_vehiculo_5',\n",
    " 'day': 'dia',\n",
    " 'no_location': 'sin_ubicacion',\n",
    " 'day_time': 'hora_del_dia'}, inplace= True)\n",
    "choques_nyc.head(1)"
   ]
  },
  {
   "cell_type": "code",
   "execution_count": 100,
   "metadata": {},
   "outputs": [
    {
     "data": {
      "text/plain": [
       "Index(['colision_fecha', 'colision_hora', 'latitud', 'longitud', 'ubicacion',\n",
       "       'nombre_de_calle', 'numero_de_personas_heridas',\n",
       "       'numero_de_personas_fallecidas', 'numero_de_peatones_heridos',\n",
       "       'numero_de_peatones_fallecidos', 'numero_de_ciclistas_heridos',\n",
       "       'numero_de_ciclistas_fallecidos', 'numero_de_conductores_heridos',\n",
       "       'numero_de_conductores_fallecidos', 'factor_contribuyente_vehiculo_1',\n",
       "       'factor_contribuyente_vehiculo_2', 'colision_ID',\n",
       "       'codigo_tipo_de_vehiculo_1', 'codigo_tipo_de_vehiculo_2', 'localidad',\n",
       "       'codigo_postal', 'calle_interseccion', 'nombre_fuera_de_calle',\n",
       "       'factor_contribuyente_vehiculo_3', 'factor_contribuyente_vehiculo_4',\n",
       "       'codigo_tipo_de_vehiculo_3', 'codigo_tipo_de_vehiculo_4',\n",
       "       'factor_contribuyente_vehiculo_5', 'codigo_tipo_de_vehiculo_5',\n",
       "       'colision_fecha_hora'],\n",
       "      dtype='object')"
      ]
     },
     "execution_count": 100,
     "metadata": {},
     "output_type": "execute_result"
    }
   ],
   "source": [
    "choques_nyc.columns"
   ]
  },
  {
   "cell_type": "code",
   "execution_count": 101,
   "metadata": {},
   "outputs": [
    {
     "name": "stderr",
     "output_type": "stream",
     "text": [
      "C:\\Users\\Kevin\\AppData\\Local\\Temp\\ipykernel_19020\\2988236535.py:1: SettingWithCopyWarning: \n",
      "A value is trying to be set on a copy of a slice from a DataFrame.\n",
      "Try using .loc[row_indexer,col_indexer] = value instead\n",
      "\n",
      "See the caveats in the documentation: https://pandas.pydata.org/pandas-docs/stable/user_guide/indexing.html#returning-a-view-versus-a-copy\n",
      "  choques_nyc['anio'] = choques_nyc['colision_fecha_hora'].dt.year\n",
      "C:\\Users\\Kevin\\AppData\\Local\\Temp\\ipykernel_19020\\2988236535.py:2: SettingWithCopyWarning: \n",
      "A value is trying to be set on a copy of a slice from a DataFrame.\n",
      "Try using .loc[row_indexer,col_indexer] = value instead\n",
      "\n",
      "See the caveats in the documentation: https://pandas.pydata.org/pandas-docs/stable/user_guide/indexing.html#returning-a-view-versus-a-copy\n",
      "  choques_nyc['mes'] = choques_nyc['colision_fecha_hora'].dt.month\n",
      "C:\\Users\\Kevin\\AppData\\Local\\Temp\\ipykernel_19020\\2988236535.py:3: SettingWithCopyWarning: \n",
      "A value is trying to be set on a copy of a slice from a DataFrame.\n",
      "Try using .loc[row_indexer,col_indexer] = value instead\n",
      "\n",
      "See the caveats in the documentation: https://pandas.pydata.org/pandas-docs/stable/user_guide/indexing.html#returning-a-view-versus-a-copy\n",
      "  choques_nyc['dia'] = choques_nyc['colision_fecha_hora'].dt.day\n",
      "C:\\Users\\Kevin\\AppData\\Local\\Temp\\ipykernel_19020\\2988236535.py:4: SettingWithCopyWarning: \n",
      "A value is trying to be set on a copy of a slice from a DataFrame.\n",
      "Try using .loc[row_indexer,col_indexer] = value instead\n",
      "\n",
      "See the caveats in the documentation: https://pandas.pydata.org/pandas-docs/stable/user_guide/indexing.html#returning-a-view-versus-a-copy\n",
      "  choques_nyc['hora'] = choques_nyc['colision_fecha_hora'].dt.time\n"
     ]
    }
   ],
   "source": [
    "choques_nyc['anio'] = choques_nyc['colision_fecha_hora'].dt.year\n",
    "choques_nyc['mes'] = choques_nyc['colision_fecha_hora'].dt.month\n",
    "choques_nyc['dia'] = choques_nyc['colision_fecha_hora'].dt.day\n",
    "choques_nyc['hora'] = choques_nyc['colision_fecha_hora'].dt.time"
   ]
  },
  {
   "cell_type": "code",
   "execution_count": 102,
   "metadata": {},
   "outputs": [
    {
     "data": {
      "text/plain": [
       "Index(['colision_fecha', 'colision_hora', 'latitud', 'longitud', 'ubicacion',\n",
       "       'nombre_de_calle', 'numero_de_personas_heridas',\n",
       "       'numero_de_personas_fallecidas', 'numero_de_peatones_heridos',\n",
       "       'numero_de_peatones_fallecidos', 'numero_de_ciclistas_heridos',\n",
       "       'numero_de_ciclistas_fallecidos', 'numero_de_conductores_heridos',\n",
       "       'numero_de_conductores_fallecidos', 'factor_contribuyente_vehiculo_1',\n",
       "       'factor_contribuyente_vehiculo_2', 'colision_ID',\n",
       "       'codigo_tipo_de_vehiculo_1', 'codigo_tipo_de_vehiculo_2', 'localidad',\n",
       "       'codigo_postal', 'calle_interseccion', 'nombre_fuera_de_calle',\n",
       "       'factor_contribuyente_vehiculo_3', 'factor_contribuyente_vehiculo_4',\n",
       "       'codigo_tipo_de_vehiculo_3', 'codigo_tipo_de_vehiculo_4',\n",
       "       'factor_contribuyente_vehiculo_5', 'codigo_tipo_de_vehiculo_5',\n",
       "       'colision_fecha_hora', 'anio', 'mes', 'dia', 'hora'],\n",
       "      dtype='object')"
      ]
     },
     "execution_count": 102,
     "metadata": {},
     "output_type": "execute_result"
    }
   ],
   "source": [
    "choques_nyc.columns"
   ]
  },
  {
   "cell_type": "code",
   "execution_count": 103,
   "metadata": {},
   "outputs": [],
   "source": [
    "#guardo cada columna de codigo de vehiculo en su variable en forma de lista\n",
    "#y cambio el valor a str por los nan y simbolos especiales\n",
    "codigo_tipo_de_vehiculo_1 = list(choques_nyc.codigo_tipo_de_vehiculo_1)\n",
    "codigo_tipo_de_vehiculo_1 = [str(v) for v in codigo_tipo_de_vehiculo_1]\n",
    "codigo_tipo_de_vehiculo_2 = list(choques_nyc.codigo_tipo_de_vehiculo_2)\n",
    "codigo_tipo_de_vehiculo_2 = [str(v) for v in codigo_tipo_de_vehiculo_2]\n",
    "codigo_tipo_de_vehiculo_3 = list(choques_nyc.codigo_tipo_de_vehiculo_3)\n",
    "codigo_tipo_de_vehiculo_3 = [str(v) for v in codigo_tipo_de_vehiculo_3]\n",
    "codigo_tipo_de_vehiculo_4 = list(choques_nyc.codigo_tipo_de_vehiculo_4)\n",
    "codigo_tipo_de_vehiculo_4 = [str(v) for v in codigo_tipo_de_vehiculo_4]\n",
    "codigo_tipo_de_vehiculo_5 = list(choques_nyc.codigo_tipo_de_vehiculo_5)\n",
    "codigo_tipo_de_vehiculo_5 = [str(v) for v in codigo_tipo_de_vehiculo_5]"
   ]
  },
  {
   "cell_type": "code",
   "execution_count": 104,
   "metadata": {},
   "outputs": [],
   "source": [
    "#formateo de primer letra a mayuscula\n",
    "codigo_tipo_de_vehiculo_1 = [w.title() for w in codigo_tipo_de_vehiculo_1]\n",
    "codigo_tipo_de_vehiculo_2 = [w.title() for w in codigo_tipo_de_vehiculo_2]\n",
    "codigo_tipo_de_vehiculo_3 = [w.title() for w in codigo_tipo_de_vehiculo_3]\n",
    "codigo_tipo_de_vehiculo_4 = [w.title() for w in codigo_tipo_de_vehiculo_4]\n",
    "codigo_tipo_de_vehiculo_5 = [w.title() for w in codigo_tipo_de_vehiculo_5]"
   ]
  },
  {
   "cell_type": "code",
   "execution_count": 105,
   "metadata": {},
   "outputs": [],
   "source": [
    "#saque del dataset los modelos de vehiculo mas predominantes\n",
    "#separando aquellos que tienen apenas apariciones y nada de peso en los numeros\n",
    "#luego reemplace los nan por unknown\n",
    "#y aquellos que no forman parte de la lista de los modelos principales\n",
    "#son reemplazados por uno de esos modelos al azar\n",
    "#asi me deshago de toda la basura entre los modelos\n",
    "def normalize_vehicles(abc):\n",
    "    good_ones = ['Sedan', 'Station Wagon/Sport Utility Vehicle', 'Taxi', 'Pick-Up Truck', 'Box Truck', 'Bike', 'Bus', 'Tractor Truck Diesel', 'Motorcycle', 'Van', 'E-Bike', 'Ambulance', 'E-Scooter', 'Dump', 'Convertible', 'Flat Bed', 'Moped', 'Garbage Or Refuse']\n",
    "    list_vehicles = [x for x in abc]\n",
    "    for v in range(0, len(list_vehicles)):\n",
    "        if list_vehicles[v] == 'Nan':\n",
    "            list_vehicles[v] = 'Unknown'\n",
    "        elif list_vehicles[v] not in good_ones:\n",
    "            list_vehicles[v] = random.choice(good_ones)\n",
    "    return list_vehicles"
   ]
  },
  {
   "cell_type": "code",
   "execution_count": 106,
   "metadata": {},
   "outputs": [],
   "source": [
    "#uso la funcion de normalizacion en cada columna de modelo de vehiculo\n",
    "vehiculo_1 = normalize_vehicles(codigo_tipo_de_vehiculo_1)\n",
    "vehiculo_2 = normalize_vehicles(codigo_tipo_de_vehiculo_2)\n",
    "vehiculo_3 = normalize_vehicles(codigo_tipo_de_vehiculo_3)\n",
    "vehiculo_4 = normalize_vehicles(codigo_tipo_de_vehiculo_4)\n",
    "vehiculo_5 = normalize_vehicles(codigo_tipo_de_vehiculo_5)"
   ]
  },
  {
   "cell_type": "code",
   "execution_count": 107,
   "metadata": {},
   "outputs": [
    {
     "name": "stdout",
     "output_type": "stream",
     "text": [
      "[('Unknown', 460565), ('Sedan', 19929), ('Station Wagon/Sport Utility Vehicle', 16420), ('Pick-Up Truck', 1001), ('Taxi', 816), ('Box Truck', 450), ('Bus', 266), ('Bike', 200), ('Van', 191), ('Tractor Truck Diesel', 188), ('Motorcycle', 165), ('Convertible', 121), ('Ambulance', 69), ('Flat Bed', 64), ('Dump', 60), ('E-Bike', 57), ('E-Scooter', 53), ('Garbage Or Refuse', 49), ('Moped', 45)]\n"
     ]
    }
   ],
   "source": [
    "#checkeo que los grupos esten limpios usando counter\n",
    "vehiculo_3_counter = ctr(vehiculo_3)\n",
    "vehiculo_3_most_common = vehiculo_3_counter.most_common(50)\n",
    "print(vehiculo_3_most_common)"
   ]
  },
  {
   "cell_type": "code",
   "execution_count": 108,
   "metadata": {},
   "outputs": [
    {
     "name": "stdout",
     "output_type": "stream",
     "text": [
      "[('Nan', 460565), ('Sedan', 19915), ('Station Wagon/Sport Utility Vehicle', 16399), ('Pick-Up Truck', 975), ('Taxi', 789), ('Box Truck', 423), ('Bus', 248), ('Tractor Truck Diesel', 173), ('Bike', 172), ('Van', 171), ('Motorcycle', 144), ('Convertible', 102), ('Dump', 42), ('Pk', 42), ('Flat Bed', 40), ('Ambulance', 37), ('E-Bike', 37), ('Tow Truck / Wrecker', 36), ('E-Scooter', 34), ('Garbage Or Refuse', 28), ('4 Dr Sedan', 26), ('Moped', 26), ('Tractor Truck Gasoline', 19), ('Trailer', 15), ('Carry All', 15), ('Motorbike', 14), ('Motorscooter', 14), ('Limo', 12), ('Concrete Mixer', 10), ('Chassis Cab', 8), ('Tanker', 7), ('Refrigerated Van', 6), ('Truck', 6), ('School Bus', 6), ('Unk', 5), ('Lift Boom', 5), ('3-Door', 5), ('Unknown', 5), ('Multi-Wheeled Vehicle', 5), ('Bulk Agriculture', 4), ('Tow Truck', 4), ('Flat Rack', 4), ('Stake Or Rack', 4), ('E-Bik', 4), ('Ambul', 4), ('Trail', 4), ('Garbage Tr', 3), ('Fdny Fire', 3), ('Open Body', 3), ('Rv', 3)]\n"
     ]
    }
   ],
   "source": [
    "#aca igual\n",
    "codigo_tipo_de_vehiculo_3_counter = ctr(codigo_tipo_de_vehiculo_3)\n",
    "codigo_tipo_de_vehiculo_3_most_common = codigo_tipo_de_vehiculo_3_counter.most_common(50)\n",
    "print(codigo_tipo_de_vehiculo_3_most_common)"
   ]
  },
  {
   "cell_type": "code",
   "execution_count": 109,
   "metadata": {},
   "outputs": [
    {
     "name": "stderr",
     "output_type": "stream",
     "text": [
      "C:\\Users\\Kevin\\AppData\\Local\\Temp\\ipykernel_19020\\4201526722.py:2: SettingWithCopyWarning: \n",
      "A value is trying to be set on a copy of a slice from a DataFrame.\n",
      "Try using .loc[row_indexer,col_indexer] = value instead\n",
      "\n",
      "See the caveats in the documentation: https://pandas.pydata.org/pandas-docs/stable/user_guide/indexing.html#returning-a-view-versus-a-copy\n",
      "  choques_nyc['codigo_tipo_de_vehiculo_1'] = vehiculo_1\n",
      "C:\\Users\\Kevin\\AppData\\Local\\Temp\\ipykernel_19020\\4201526722.py:3: SettingWithCopyWarning: \n",
      "A value is trying to be set on a copy of a slice from a DataFrame.\n",
      "Try using .loc[row_indexer,col_indexer] = value instead\n",
      "\n",
      "See the caveats in the documentation: https://pandas.pydata.org/pandas-docs/stable/user_guide/indexing.html#returning-a-view-versus-a-copy\n",
      "  choques_nyc['codigo_tipo_de_vehiculo_2'] = vehiculo_2\n",
      "C:\\Users\\Kevin\\AppData\\Local\\Temp\\ipykernel_19020\\4201526722.py:4: SettingWithCopyWarning: \n",
      "A value is trying to be set on a copy of a slice from a DataFrame.\n",
      "Try using .loc[row_indexer,col_indexer] = value instead\n",
      "\n",
      "See the caveats in the documentation: https://pandas.pydata.org/pandas-docs/stable/user_guide/indexing.html#returning-a-view-versus-a-copy\n",
      "  choques_nyc['codigo_tipo_de_vehiculo_3'] = vehiculo_3\n",
      "C:\\Users\\Kevin\\AppData\\Local\\Temp\\ipykernel_19020\\4201526722.py:5: SettingWithCopyWarning: \n",
      "A value is trying to be set on a copy of a slice from a DataFrame.\n",
      "Try using .loc[row_indexer,col_indexer] = value instead\n",
      "\n",
      "See the caveats in the documentation: https://pandas.pydata.org/pandas-docs/stable/user_guide/indexing.html#returning-a-view-versus-a-copy\n",
      "  choques_nyc['codigo_tipo_de_vehiculo_4'] = vehiculo_4\n",
      "C:\\Users\\Kevin\\AppData\\Local\\Temp\\ipykernel_19020\\4201526722.py:6: SettingWithCopyWarning: \n",
      "A value is trying to be set on a copy of a slice from a DataFrame.\n",
      "Try using .loc[row_indexer,col_indexer] = value instead\n",
      "\n",
      "See the caveats in the documentation: https://pandas.pydata.org/pandas-docs/stable/user_guide/indexing.html#returning-a-view-versus-a-copy\n",
      "  choques_nyc['codigo_tipo_de_vehiculo_5'] = vehiculo_5\n"
     ]
    }
   ],
   "source": [
    "#una vez checkeado que todo esta bien reemplazo las columnas viejas por las limpias\n",
    "choques_nyc['codigo_tipo_de_vehiculo_1'] = vehiculo_1\n",
    "choques_nyc['codigo_tipo_de_vehiculo_2'] = vehiculo_2\n",
    "choques_nyc['codigo_tipo_de_vehiculo_3'] = vehiculo_3\n",
    "choques_nyc['codigo_tipo_de_vehiculo_4'] = vehiculo_4\n",
    "choques_nyc['codigo_tipo_de_vehiculo_5'] = vehiculo_5"
   ]
  },
  {
   "cell_type": "code",
   "execution_count": 110,
   "metadata": {},
   "outputs": [
    {
     "name": "stderr",
     "output_type": "stream",
     "text": [
      "C:\\Users\\Kevin\\AppData\\Local\\Temp\\ipykernel_19020\\2178874517.py:2: SettingWithCopyWarning: \n",
      "A value is trying to be set on a copy of a slice from a DataFrame\n",
      "\n",
      "See the caveats in the documentation: https://pandas.pydata.org/pandas-docs/stable/user_guide/indexing.html#returning-a-view-versus-a-copy\n",
      "  choques_nyc.factor_contribuyente_vehiculo_1.fillna('Sin Especificar', inplace= True)\n",
      "C:\\Users\\Kevin\\AppData\\Local\\Temp\\ipykernel_19020\\2178874517.py:3: SettingWithCopyWarning: \n",
      "A value is trying to be set on a copy of a slice from a DataFrame\n",
      "\n",
      "See the caveats in the documentation: https://pandas.pydata.org/pandas-docs/stable/user_guide/indexing.html#returning-a-view-versus-a-copy\n",
      "  choques_nyc.factor_contribuyente_vehiculo_2.fillna('Sin Especificar', inplace= True)\n",
      "C:\\Users\\Kevin\\AppData\\Local\\Temp\\ipykernel_19020\\2178874517.py:4: SettingWithCopyWarning: \n",
      "A value is trying to be set on a copy of a slice from a DataFrame\n",
      "\n",
      "See the caveats in the documentation: https://pandas.pydata.org/pandas-docs/stable/user_guide/indexing.html#returning-a-view-versus-a-copy\n",
      "  choques_nyc.factor_contribuyente_vehiculo_3.fillna('Sin Especificar', inplace= True)\n",
      "C:\\Users\\Kevin\\AppData\\Local\\Temp\\ipykernel_19020\\2178874517.py:5: SettingWithCopyWarning: \n",
      "A value is trying to be set on a copy of a slice from a DataFrame\n",
      "\n",
      "See the caveats in the documentation: https://pandas.pydata.org/pandas-docs/stable/user_guide/indexing.html#returning-a-view-versus-a-copy\n",
      "  choques_nyc.factor_contribuyente_vehiculo_4.fillna('Sin Especificar', inplace= True)\n",
      "C:\\Users\\Kevin\\AppData\\Local\\Temp\\ipykernel_19020\\2178874517.py:6: SettingWithCopyWarning: \n",
      "A value is trying to be set on a copy of a slice from a DataFrame\n",
      "\n",
      "See the caveats in the documentation: https://pandas.pydata.org/pandas-docs/stable/user_guide/indexing.html#returning-a-view-versus-a-copy\n",
      "  choques_nyc.factor_contribuyente_vehiculo_5.fillna('Sin Especificar', inplace= True)\n"
     ]
    }
   ],
   "source": [
    "#replazando nan por Sin especificar en cada columna de factor contribuyente\n",
    "choques_nyc.factor_contribuyente_vehiculo_1.fillna('Sin Especificar', inplace= True)\n",
    "choques_nyc.factor_contribuyente_vehiculo_2.fillna('Sin Especificar', inplace= True)\n",
    "choques_nyc.factor_contribuyente_vehiculo_3.fillna('Sin Especificar', inplace= True)\n",
    "choques_nyc.factor_contribuyente_vehiculo_4.fillna('Sin Especificar', inplace= True)\n",
    "choques_nyc.factor_contribuyente_vehiculo_5.fillna('Sin Especificar', inplace= True)"
   ]
  },
  {
   "cell_type": "code",
   "execution_count": 111,
   "metadata": {},
   "outputs": [
    {
     "name": "stderr",
     "output_type": "stream",
     "text": [
      "C:\\Users\\Kevin\\AppData\\Local\\Temp\\ipykernel_19020\\1851416316.py:2: SettingWithCopyWarning: \n",
      "A value is trying to be set on a copy of a slice from a DataFrame\n",
      "\n",
      "See the caveats in the documentation: https://pandas.pydata.org/pandas-docs/stable/user_guide/indexing.html#returning-a-view-versus-a-copy\n",
      "  choques_nyc.factor_contribuyente_vehiculo_1.replace(['Following Too Closely',\n"
     ]
    }
   ],
   "source": [
    "#traduccion de columna\n",
    "choques_nyc.factor_contribuyente_vehiculo_1.replace(['Following Too Closely',\n",
    "'Unspecified',\n",
    "'Turning Improperly',\n",
    "'Pavement Slippery',\n",
    "'Driver Inattention/Distraction',\n",
    "'Other Vehicular',\n",
    "'Passing Too Closely',\n",
    "'Passing or Lane Usage Improper',\n",
    "'Driver Inexperience',\n",
    "'Failure to Yield Right-of-Way',\n",
    "'Brakes Defective',\n",
    "'Unsafe Speed',\n",
    "'Backing Unsafely',\n",
    "'Reaction to Uninvolved Vehicle',\n",
    "'View Obstructed/Limited',\n",
    "'Steering Failure',\n",
    "'Traffic Control Disregarded',\n",
    "'Drugs (illegal)',\n",
    "'Aggressive Driving/Road Rage',\n",
    "'Fell Asleep',\n",
    "'Pedestrian/Bicyclist/Other Pedestrian Error/Confusion',\n",
    "'Alcohol Involvement',\n",
    "'Unsafe Lane Changing',\n",
    "'Pavement Defective',\n",
    "'Other Lighting Defects',\n",
    "'Oversized Vehicle',\n",
    "'Animals Action',\n",
    "'Outside Car Distraction',\n",
    "'Illnes',\n",
    "'Driverless/Runaway Vehicle',\n",
    "'Passenger Distraction',\n",
    "'Tire Failure/Inadequate',\n",
    "'Fatigued/Drowsy',\n",
    "'Glare',\n",
    "'Cell Phone (hand-Held)',\n",
    "'Obstruction/Debris',\n",
    "'Shoulders Defective/Improper',\n",
    "'Lost Consciousness',\n",
    "'Accelerator Defective',\n",
    "'Failure to Keep Right',\n",
    "'Traffic Control Device Improper/Non-Working',\n",
    "'Eating or Drinking',\n",
    "'Vehicle Vandalism',\n",
    "'Physical Disability',\n",
    "'Cell Phone (hands-free)',\n",
    "'Lane Marking Improper/Inadequate',\n",
    "'Other Electronic Device',\n",
    "'Using On Board Navigation Device',\n",
    "'Tow Hitch Defective',\n",
    "'Texting',\n",
    "'Headlights Defective',\n",
    "'Tinted Windows',\n",
    "'Prescription Medication',\n",
    "'Listening/Using Headphones',\n",
    "'Windshield Inadequate'],\n",
    "['Seguir Muy De Cerca',\n",
    "'Sin Especificar',\n",
    "'Giro Inapropiado',\n",
    "'Pavimento Resbaladizo',\n",
    "'Conductor Inatento/Distraido',\n",
    "'Otra Vehicular',\n",
    "'Pasar Muy De Cerca',\n",
    "'Pasar O Usar carril Inapropiadamente',\n",
    "'Inexperiencia Del Conductor',\n",
    "'No Otorgar Derecho De Paso',\n",
    "'Frenos Defectuosos',\n",
    "'Velocidad Peligrosa',\n",
    "'Reversa Peligrosa',\n",
    "'Reaccion A Vehiculo No Involucrado',\n",
    "'Vision Obstruida/Limitada',\n",
    "'Falla Al Doblar',\n",
    "'Ignorar Control De Trafico',\n",
    "'Drogas (ilegales)',\n",
    "'Conduccion Agresiva',\n",
    "'Quedarse Dormido',\n",
    "'Peaton/Ciclista/Otro Error De Peaton/Confusion',\n",
    "'Alcohol Involucrado',\n",
    "'Cambio de carril peligroso',\n",
    "'Pavimento defectuoso',\n",
    "'Otros Defectos De Iluminacion',\n",
    "'Vehiculo Demasiado Grande',\n",
    "'Accion Animal',\n",
    "'Distraccion De Auto Ajeno',\n",
    "'Enfermedad',\n",
    "'Vehiculo Sin Conductor',\n",
    "'Distraccion De Pasajero',\n",
    "'Falla/Defecto de neumatico',\n",
    "'Fatiga/Adormecimiento',\n",
    "'Encandilamiento',\n",
    "'Celular(En Mano)',\n",
    "'Obstruccion/Escombros',\n",
    "'Guardabarro Defectivo/Inapropiado',\n",
    "'Perdida De Conciencia',\n",
    "'Acelerador Defectuoso',\n",
    "'Fallo De Mantener En Linear Recta',\n",
    "'Dispositivo De Control De Trafico Roto/Inapropiado',\n",
    "'Comida O Bebida',\n",
    "'Vandalismo De Vehiculo',\n",
    "'Discapacidad Fisica',\n",
    "'Celular(Manos Libres)',\n",
    "'Delimitacion de Carrilo Inadecuado',\n",
    "'Otro Dispositivo Electronico',\n",
    "'Usar Dispositivo De Navigacion De A Bordo',\n",
    "'Enganche De Remolque Defectuoso',\n",
    "'Mensajeria',\n",
    "'Luces Defectivas',\n",
    "'Vidrios Polarizados',\n",
    "'Prescripcion Medica',\n",
    "'Usar Auriculares',\n",
    "'Parabrisas Inadecuados'], inplace= True)"
   ]
  },
  {
   "cell_type": "code",
   "execution_count": 112,
   "metadata": {},
   "outputs": [
    {
     "name": "stderr",
     "output_type": "stream",
     "text": [
      "C:\\Users\\Kevin\\AppData\\Local\\Temp\\ipykernel_19020\\3914632134.py:2: SettingWithCopyWarning: \n",
      "A value is trying to be set on a copy of a slice from a DataFrame\n",
      "\n",
      "See the caveats in the documentation: https://pandas.pydata.org/pandas-docs/stable/user_guide/indexing.html#returning-a-view-versus-a-copy\n",
      "  choques_nyc.factor_contribuyente_vehiculo_2.replace(['Following Too Closely',\n"
     ]
    }
   ],
   "source": [
    "#traduccion de columna\n",
    "choques_nyc.factor_contribuyente_vehiculo_2.replace(['Following Too Closely',\n",
    "'Unspecified',\n",
    "'Turning Improperly',\n",
    "'Pavement Slippery',\n",
    "'Driver Inattention/Distraction',\n",
    "'Other Vehicular',\n",
    "'Passing Too Closely',\n",
    "'Passing or Lane Usage Improper',\n",
    "'Driver Inexperience',\n",
    "'Failure to Yield Right-of-Way',\n",
    "'Brakes Defective',\n",
    "'Unsafe Speed',\n",
    "'Backing Unsafely',\n",
    "'Reaction to Uninvolved Vehicle',\n",
    "'View Obstructed/Limited',\n",
    "'Steering Failure',\n",
    "'Traffic Control Disregarded',\n",
    "'Drugs (illegal)',\n",
    "'Aggressive Driving/Road Rage',\n",
    "'Fell Asleep',\n",
    "'Pedestrian/Bicyclist/Other Pedestrian Error/Confusion',\n",
    "'Alcohol Involvement',\n",
    "'Unsafe Lane Changing',\n",
    "'Pavement Defective',\n",
    "'Other Lighting Defects',\n",
    "'Oversized Vehicle',\n",
    "'Animals Action',\n",
    "'Outside Car Distraction',\n",
    "'Illnes',\n",
    "'Driverless/Runaway Vehicle',\n",
    "'Passenger Distraction',\n",
    "'Tire Failure/Inadequate',\n",
    "'Fatigued/Drowsy',\n",
    "'Glare',\n",
    "'Cell Phone (hand-Held)',\n",
    "'Obstruction/Debris',\n",
    "'Shoulders Defective/Improper',\n",
    "'Lost Consciousness',\n",
    "'Accelerator Defective',\n",
    "'Failure to Keep Right',\n",
    "'Traffic Control Device Improper/Non-Working',\n",
    "'Eating or Drinking',\n",
    "'Vehicle Vandalism',\n",
    "'Physical Disability',\n",
    "'Cell Phone (hands-free)',\n",
    "'Lane Marking Improper/Inadequate',\n",
    "'Other Electronic Device',\n",
    "'Using On Board Navigation Device',\n",
    "'Tow Hitch Defective',\n",
    "'Texting',\n",
    "'Headlights Defective',\n",
    "'Tinted Windows',\n",
    "'Prescription Medication',\n",
    "'Listening/Using Headphones'],\n",
    "['Seguir Muy De Cerca',\n",
    "'Sin Especificar',\n",
    "'Giro Inapropiado',\n",
    "'Pavimento Resbaladizo',\n",
    "'Conductor Inatento/Distraido',\n",
    "'Otra Vehicular',\n",
    "'Pasar Muy De Cerca',\n",
    "'Pasar O Usar carril Inapropiadamente',\n",
    "'Inexperiencia Del Conductor',\n",
    "'No Otorgar Derecho De Paso',\n",
    "'Frenos Defectuosos',\n",
    "'Velocidad Peligrosa',\n",
    "'Reversa Peligrosa',\n",
    "'Reaccion A Vehiculo No Involucrado',\n",
    "'Vision Obstruida/Limitada',\n",
    "'Falla Al Doblar',\n",
    "'Ignorar Control De Trafico',\n",
    "'Drogas (ilegales)',\n",
    "'Conduccion Agresiva',\n",
    "'Quedarse Dormido',\n",
    "'Peaton/Ciclista/Otro Error De Peaton/Confusion',\n",
    "'Alcohol Involucrado',\n",
    "'Cambio de carril peligroso',\n",
    "'Pavimento defectuoso',\n",
    "'Otros Defectos De Iluminacion',\n",
    "'Vehiculo Demasiado Grande',\n",
    "'Accion Animal',\n",
    "'Distraccion De Auto Ajeno',\n",
    "'Enfermedad',\n",
    "'Vehiculo Sin Conductor',\n",
    "'Distraccion De Pasajero',\n",
    "'Falla/Defecto de neumatico',\n",
    "'Fatiga/Adormecimiento',\n",
    "'Encandilamiento',\n",
    "'Celular(En Mano)',\n",
    "'Obstruccion/Escombros',\n",
    "'Guardabarro Defectivo/Inapropiado',\n",
    "'Perdida De Conciencia',\n",
    "'Acelerador Defectuoso',\n",
    "'Fallo De Mantener En Linea Recta',\n",
    "'Dispositivo De Control De Trafico Roto/Inapropiado',\n",
    "'Comida O Bebida',\n",
    "'Vandalismo De Vehiculo',\n",
    "'Discapacidad Fisica',\n",
    "'Celular(Manos Libres)',\n",
    "'Delimitacion de Carrilo Inadecuado',\n",
    "'Otro Dispositivo Electronico',\n",
    "'Usar Dispositivo De Navigacion De A Bordo',\n",
    "'Enganche De Remolque Defectuoso',\n",
    "'Mensajeria',\n",
    "'Luces Defectivas',\n",
    "'Vidrios Polarizados',\n",
    "'Prescripcion Medica',\n",
    "'Usar Auriculares'], inplace= True)"
   ]
  },
  {
   "cell_type": "code",
   "execution_count": 113,
   "metadata": {},
   "outputs": [
    {
     "name": "stderr",
     "output_type": "stream",
     "text": [
      "C:\\Users\\Kevin\\AppData\\Local\\Temp\\ipykernel_19020\\582211393.py:2: SettingWithCopyWarning: \n",
      "A value is trying to be set on a copy of a slice from a DataFrame\n",
      "\n",
      "See the caveats in the documentation: https://pandas.pydata.org/pandas-docs/stable/user_guide/indexing.html#returning-a-view-versus-a-copy\n",
      "  choques_nyc.factor_contribuyente_vehiculo_3.replace(['Following Too Closely',\n"
     ]
    }
   ],
   "source": [
    "#traduccion de columna\n",
    "choques_nyc.factor_contribuyente_vehiculo_3.replace(['Following Too Closely',\n",
    "'Unspecified',\n",
    "'Turning Improperly',\n",
    "'Pavement Slippery',\n",
    "'Driver Inattention/Distraction',\n",
    "'Other Vehicular',\n",
    "'Passing Too Closely',\n",
    "'Passing or Lane Usage Improper',\n",
    "'Driver Inexperience',\n",
    "'Failure to Yield Right-of-Way',\n",
    "'Brakes Defective',\n",
    "'Unsafe Speed',\n",
    "'Backing Unsafely',\n",
    "'Reaction to Uninvolved Vehicle',\n",
    "'View Obstructed/Limited',\n",
    "'Steering Failure',\n",
    "'Traffic Control Disregarded',\n",
    "'Drugs (illegal)',\n",
    "'Aggressive Driving/Road Rage',\n",
    "'Fell Asleep',\n",
    "'Pedestrian/Bicyclist/Other Pedestrian Error/Confusion',\n",
    "'Alcohol Involvement',\n",
    "'Unsafe Lane Changing',\n",
    "'Pavement Defective',\n",
    "'Oversized Vehicle',\n",
    "'Outside Car Distraction',\n",
    "'Illnes',\n",
    "'Driverless/Runaway Vehicle',\n",
    "'Passenger Distraction',\n",
    "'Tire Failure/Inadequate',\n",
    "'Glare',\n",
    "'Obstruction/Debris',\n",
    "'Lost Consciousness',\n",
    "'Failure to Keep Right',\n",
    "'Traffic Control Device Improper/Non-Working',\n",
    "'Eating or Drinking',\n",
    "'Cell Phone (hands-free)',\n",
    "'Other Electronic Device'],\n",
    "['Seguir Muy De Cerca',\n",
    "'Sin Especificar',\n",
    "'Giro Inapropiado',\n",
    "'Pavimento Resbaladizo',\n",
    "'Conductor Inatento/Distraido',\n",
    "'Otra Vehicular',\n",
    "'Pasar Muy De Cerca',\n",
    "'Pasar O Usar carril Inapropiadamente',\n",
    "'Inexperiencia Del Conductor',\n",
    "'No Otorgar Derecho De Paso',\n",
    "'Frenos Defectuosos',\n",
    "'Velocidad Peligrosa',\n",
    "'Reversa Peligrosa',\n",
    "'Reaccion A Vehiculo No Involucrado',\n",
    "'Vision Obstruida/Limitada',\n",
    "'Falla Al Doblar',\n",
    "'Ignorar Control De Trafico',\n",
    "'Drogas (ilegales)',\n",
    "'Conduccion Agresiva',\n",
    "'Quedarse Dormido',\n",
    "'Peaton/Ciclista/Otro Error De Peaton/Confusion',\n",
    "'Alcohol Involucrado',\n",
    "'Cambio de carril peligroso',\n",
    "'Pavimento defectuoso',\n",
    "'Vehiculo Demasiado Grande',\n",
    "'Distraccion De Auto Ajeno',\n",
    "'Enfermedad',\n",
    "'Vehiculo Sin Conductor',\n",
    "'Distraccion De Pasajero',\n",
    "'Falla/Defecto de neumatico',\n",
    "'Encandilamiento',\n",
    "'Obstruccion/Escombros',\n",
    "'Perdida De Conciencia',\n",
    "'Fallo De Mantener En Linear Recta',\n",
    "'Dispositivo De Control De Trafico Roto/Inapropiado',\n",
    "'Comida O Bebida',\n",
    "'Celular(Manos Libres)',\n",
    "'Otro Dispositivo Electronico'], inplace= True)"
   ]
  },
  {
   "cell_type": "code",
   "execution_count": 114,
   "metadata": {},
   "outputs": [
    {
     "name": "stderr",
     "output_type": "stream",
     "text": [
      "C:\\Users\\Kevin\\AppData\\Local\\Temp\\ipykernel_19020\\3774588508.py:2: SettingWithCopyWarning: \n",
      "A value is trying to be set on a copy of a slice from a DataFrame\n",
      "\n",
      "See the caveats in the documentation: https://pandas.pydata.org/pandas-docs/stable/user_guide/indexing.html#returning-a-view-versus-a-copy\n",
      "  choques_nyc.factor_contribuyente_vehiculo_4.replace(['Following Too Closely',\n"
     ]
    }
   ],
   "source": [
    "#traduccion de columna\n",
    "choques_nyc.factor_contribuyente_vehiculo_4.replace(['Following Too Closely',\n",
    "'Unspecified',\n",
    "'Pavement Slippery',\n",
    "'Driver Inattention/Distraction',\n",
    "'Other Vehicular',\n",
    "'Passing Too Closely',\n",
    "'Passing or Lane Usage Improper',\n",
    "'Driver Inexperience',\n",
    "'Failure to Yield Right-of-Way',\n",
    "'Brakes Defective',\n",
    "'Unsafe Speed',\n",
    "'Backing Unsafely',\n",
    "'Reaction to Uninvolved Vehicle',\n",
    "'View Obstructed/Limited',\n",
    "'Traffic Control Disregarded',\n",
    "'Aggressive Driving/Road Rage',\n",
    "'Fell Asleep',\n",
    "'Alcohol Involvement',\n",
    "'Unsafe Lane Changing',\n",
    "'Pavement Defective',\n",
    "'Outside Car Distraction',\n",
    "'Obstruction/Debris'],\n",
    "['Seguir Muy De Cerca',\n",
    "'Sin Especificar',\n",
    "'Pavimento Resbaladizo',\n",
    "'Conductor Inatento/Distraido',\n",
    "'Otra Vehicular',\n",
    "'Pasar Muy De Cerca',\n",
    "'Pasar O Usar carril Inapropiadamente',\n",
    "'Inexperiencia Del Conductor',\n",
    "'No Otorgar Derecho De Paso',\n",
    "'Frenos Defectuosos',\n",
    "'Velocidad Peligrosa',\n",
    "'Reversa Peligrosa',\n",
    "'Reaccion A Vehiculo No Involucrado',\n",
    "'Vision Obstruida/Limitada',\n",
    "'Ignorar Control De Trafico',\n",
    "'Conduccion Agresiva',\n",
    "'Quedarse Dormido',\n",
    "'Alcohol Involucrado',\n",
    "'Cambio de carril peligroso',\n",
    "'Pavimento defectuoso',\n",
    "'Distraccion De Auto Ajeno',\n",
    "'Obstruccion/Escombros'], inplace= True)"
   ]
  },
  {
   "cell_type": "code",
   "execution_count": 115,
   "metadata": {},
   "outputs": [
    {
     "name": "stderr",
     "output_type": "stream",
     "text": [
      "C:\\Users\\Kevin\\AppData\\Local\\Temp\\ipykernel_19020\\2432672975.py:2: SettingWithCopyWarning: \n",
      "A value is trying to be set on a copy of a slice from a DataFrame\n",
      "\n",
      "See the caveats in the documentation: https://pandas.pydata.org/pandas-docs/stable/user_guide/indexing.html#returning-a-view-versus-a-copy\n",
      "  choques_nyc.factor_contribuyente_vehiculo_5.replace(['Following Too Closely',\n"
     ]
    }
   ],
   "source": [
    "#traduccion de columna\n",
    "choques_nyc.factor_contribuyente_vehiculo_5.replace(['Following Too Closely',\n",
    "'Unspecified',\n",
    "'Pavement Slippery',\n",
    "'Driver Inattention/Distraction',\n",
    "'Other Vehicular',\n",
    "'Passing Too Closely',\n",
    "'Driver Inexperience',\n",
    "'Failure to Yield Right-of-Way',\n",
    "'Unsafe Speed',\n",
    "'Reaction to Uninvolved Vehicle',\n",
    "'Alcohol Involvement',\n",
    "'Pavement Defective',\n",
    "'Outside Car Distraction',\n",
    "'Obstruction/Debris'],\n",
    "['Seguir Muy De Cerca',\n",
    "'Sin Especificar',\n",
    "'Pavimento Resbaladizo',\n",
    "'Conductor Inatento/Distraido',\n",
    "'Otra Vehicular',\n",
    "'Pasar Muy De Cerca',\n",
    "'Inexperiencia Del Conductor',\n",
    "'No Otorgar Derecho De Paso',\n",
    "'Velocidad Peligrosa',\n",
    "'Reaccion A Vehiculo No Involucrado',\n",
    "'Alcohol Involucrado',\n",
    "'Pavimento defectuoso',\n",
    "'Distraccion De Auto Ajeno',\n",
    "'Obstruccion/Escombros'], inplace= True)"
   ]
  },
  {
   "cell_type": "code",
   "execution_count": 116,
   "metadata": {},
   "outputs": [
    {
     "data": {
      "text/plain": [
       "array(['Reversa Peligrosa', 'Velocidad Peligrosa', 'Seguir Muy De Cerca',\n",
       "       'Sin Especificar', 'Pavimento Resbaladizo',\n",
       "       'Obstruccion/Escombros', 'Pasar O Usar carril Inapropiadamente',\n",
       "       'Conductor Inatento/Distraido', 'Otra Vehicular',\n",
       "       'Pasar Muy De Cerca', 'Cambio de carril peligroso',\n",
       "       'Inexperiencia Del Conductor', 'No Otorgar Derecho De Paso',\n",
       "       'Frenos Defectuosos', 'Giro Inapropiado',\n",
       "       'Reaccion A Vehiculo No Involucrado', 'Vision Obstruida/Limitada',\n",
       "       'Falla Al Doblar', 'Ignorar Control De Trafico',\n",
       "       'Drogas (ilegales)', 'Conduccion Agresiva', 'Quedarse Dormido',\n",
       "       'Peaton/Ciclista/Otro Error De Peaton/Confusion',\n",
       "       'Alcohol Involucrado', 'Pavimento defectuoso',\n",
       "       'Otros Defectos De Iluminacion', 'Vehiculo Demasiado Grande',\n",
       "       'Accion Animal', 'Distraccion De Auto Ajeno', 'Enfermedad',\n",
       "       'Vehiculo Sin Conductor', 'Distraccion De Pasajero',\n",
       "       'Falla/Defecto de neumatico', 'Fatiga/Adormecimiento',\n",
       "       'Encandilamiento', 'Perdida De Conciencia',\n",
       "       'Dispositivo De Control De Trafico Roto/Inapropiado',\n",
       "       'Fallo De Mantener En Linear Recta', 'Acelerador Defectuoso',\n",
       "       'Comida O Bebida', 'Celular(En Mano)', 'Celular(Manos Libres)',\n",
       "       'Delimitacion de Carrilo Inadecuado', 'Discapacidad Fisica',\n",
       "       'Usar Dispositivo De Navigacion De A Bordo',\n",
       "       'Enganche De Remolque Defectuoso', 'Vidrios Polarizados',\n",
       "       'Luces Defectivas', 'Vandalismo De Vehiculo', 'Usar Auriculares',\n",
       "       'Prescripcion Medica', 'Mensajeria',\n",
       "       'Otro Dispositivo Electronico', 'Parabrisas Inadecuados',\n",
       "       'Guardabarro Defectivo/Inapropiado'], dtype=object)"
      ]
     },
     "execution_count": 116,
     "metadata": {},
     "output_type": "execute_result"
    }
   ],
   "source": [
    "choques_nyc.factor_contribuyente_vehiculo_1.unique()"
   ]
  },
  {
   "cell_type": "code",
   "execution_count": 117,
   "metadata": {},
   "outputs": [
    {
     "data": {
      "text/plain": [
       "array(['Sin Especificar', 'Pasar O Usar carril Inapropiadamente',\n",
       "       'Otra Vehicular', 'Conductor Inatento/Distraido',\n",
       "       'Velocidad Peligrosa', 'Pasar Muy De Cerca',\n",
       "       'Inexperiencia Del Conductor', 'No Otorgar Derecho De Paso',\n",
       "       'Seguir Muy De Cerca', 'Giro Inapropiado',\n",
       "       'Vision Obstruida/Limitada', 'Vehiculo Demasiado Grande',\n",
       "       'Cambio de carril peligroso', 'Ignorar Control De Trafico',\n",
       "       'Pavimento Resbaladizo', 'Reaccion A Vehiculo No Involucrado',\n",
       "       'Peaton/Ciclista/Otro Error De Peaton/Confusion',\n",
       "       'Alcohol Involucrado', 'Quedarse Dormido', 'Conduccion Agresiva',\n",
       "       'Dispositivo De Control De Trafico Roto/Inapropiado',\n",
       "       'Encandilamiento', 'Reversa Peligrosa',\n",
       "       'Distraccion De Auto Ajeno', 'Obstruccion/Escombros',\n",
       "       'Fatiga/Adormecimiento', 'Vidrios Polarizados',\n",
       "       'Vandalismo De Vehiculo', 'Frenos Defectuosos',\n",
       "       'Distraccion De Pasajero', 'Falla Al Doblar',\n",
       "       'Falla/Defecto de neumatico', 'Fallo De Mantener En Linea Recta',\n",
       "       'Vehiculo Sin Conductor', 'Drogas (ilegales)', 'Luces Defectivas',\n",
       "       'Delimitacion de Carrilo Inadecuado',\n",
       "       'Otros Defectos De Iluminacion', 'Enfermedad',\n",
       "       'Celular(Manos Libres)', 'Pavimento defectuoso',\n",
       "       'Celular(En Mano)', 'Otro Dispositivo Electronico',\n",
       "       'Acelerador Defectuoso', 'Usar Auriculares',\n",
       "       'Usar Dispositivo De Navigacion De A Bordo', 'Prescripcion Medica',\n",
       "       'Enganche De Remolque Defectuoso', 'Perdida De Conciencia',\n",
       "       'Guardabarro Defectivo/Inapropiado', 'Accion Animal',\n",
       "       'Comida O Bebida', 'Discapacidad Fisica', 'Mensajeria'],\n",
       "      dtype=object)"
      ]
     },
     "execution_count": 117,
     "metadata": {},
     "output_type": "execute_result"
    }
   ],
   "source": [
    "choques_nyc.factor_contribuyente_vehiculo_2.unique()"
   ]
  },
  {
   "cell_type": "code",
   "execution_count": 118,
   "metadata": {},
   "outputs": [
    {
     "data": {
      "text/plain": [
       "array(['Sin Especificar', 'Pasar O Usar carril Inapropiadamente',\n",
       "       'Seguir Muy De Cerca', 'Pavimento Resbaladizo', 'Otra Vehicular',\n",
       "       'Cambio de carril peligroso', 'Vision Obstruida/Limitada',\n",
       "       'Distraccion De Auto Ajeno', 'No Otorgar Derecho De Paso',\n",
       "       'Reaccion A Vehiculo No Involucrado',\n",
       "       'Conductor Inatento/Distraido', 'Conduccion Agresiva',\n",
       "       'Reversa Peligrosa', 'Ignorar Control De Trafico',\n",
       "       'Vehiculo Demasiado Grande', 'Velocidad Peligrosa',\n",
       "       'Inexperiencia Del Conductor', 'Obstruccion/Escombros',\n",
       "       'Peaton/Ciclista/Otro Error De Peaton/Confusion',\n",
       "       'Pasar Muy De Cerca', 'Alcohol Involucrado',\n",
       "       'Dispositivo De Control De Trafico Roto/Inapropiado',\n",
       "       'Pavimento defectuoso', 'Falla/Defecto de neumatico',\n",
       "       'Quedarse Dormido', 'Giro Inapropiado',\n",
       "       'Fallo De Mantener En Linear Recta', 'Celular(Manos Libres)',\n",
       "       'Vehiculo Sin Conductor', 'Otro Dispositivo Electronico',\n",
       "       'Distraccion De Pasajero', 'Frenos Defectuosos', 'Encandilamiento',\n",
       "       'Falla Al Doblar', 'Perdida De Conciencia', 'Drogas (ilegales)',\n",
       "       'Comida O Bebida', 'Enfermedad'], dtype=object)"
      ]
     },
     "execution_count": 118,
     "metadata": {},
     "output_type": "execute_result"
    }
   ],
   "source": [
    "choques_nyc.factor_contribuyente_vehiculo_3.unique()"
   ]
  },
  {
   "cell_type": "code",
   "execution_count": 119,
   "metadata": {},
   "outputs": [
    {
     "data": {
      "text/plain": [
       "array(['Sin Especificar', 'Otra Vehicular',\n",
       "       'Reaccion A Vehiculo No Involucrado', 'Seguir Muy De Cerca',\n",
       "       'Conductor Inatento/Distraido', 'Alcohol Involucrado',\n",
       "       'Inexperiencia Del Conductor',\n",
       "       'Pasar O Usar carril Inapropiadamente',\n",
       "       'Distraccion De Auto Ajeno', 'Frenos Defectuosos',\n",
       "       'Pavimento Resbaladizo', 'Obstruccion/Escombros',\n",
       "       'Pasar Muy De Cerca', 'Ignorar Control De Trafico',\n",
       "       'Vision Obstruida/Limitada', 'Quedarse Dormido',\n",
       "       'No Otorgar Derecho De Paso', 'Velocidad Peligrosa',\n",
       "       'Reversa Peligrosa', 'Conduccion Agresiva',\n",
       "       'Cambio de carril peligroso', 'Pavimento defectuoso'], dtype=object)"
      ]
     },
     "execution_count": 119,
     "metadata": {},
     "output_type": "execute_result"
    }
   ],
   "source": [
    "choques_nyc.factor_contribuyente_vehiculo_4.unique()"
   ]
  },
  {
   "cell_type": "code",
   "execution_count": 120,
   "metadata": {},
   "outputs": [
    {
     "data": {
      "text/plain": [
       "array(['Sin Especificar', 'Alcohol Involucrado',\n",
       "       'Reaccion A Vehiculo No Involucrado', 'Seguir Muy De Cerca',\n",
       "       'Conductor Inatento/Distraido', 'Otra Vehicular',\n",
       "       'Pasar Muy De Cerca', 'Distraccion De Auto Ajeno',\n",
       "       'Inexperiencia Del Conductor', 'Pavimento Resbaladizo',\n",
       "       'Obstruccion/Escombros', 'Velocidad Peligrosa',\n",
       "       'No Otorgar Derecho De Paso', 'Pavimento defectuoso'], dtype=object)"
      ]
     },
     "execution_count": 120,
     "metadata": {},
     "output_type": "execute_result"
    }
   ],
   "source": [
    "choques_nyc.factor_contribuyente_vehiculo_5.unique()"
   ]
  },
  {
   "cell_type": "code",
   "execution_count": 121,
   "metadata": {},
   "outputs": [
    {
     "data": {
      "text/plain": [
       "array(['Sin Especificar', 'Alcohol Involucrado',\n",
       "       'Reaccion A Vehiculo No Involucrado', 'Seguir Muy De Cerca',\n",
       "       'Conductor Inatento/Distraido', 'Otra Vehicular',\n",
       "       'Pasar Muy De Cerca', 'Distraccion De Auto Ajeno',\n",
       "       'Inexperiencia Del Conductor', 'Pavimento Resbaladizo',\n",
       "       'Obstruccion/Escombros', 'Velocidad Peligrosa',\n",
       "       'No Otorgar Derecho De Paso', 'Pavimento defectuoso'], dtype=object)"
      ]
     },
     "execution_count": 121,
     "metadata": {},
     "output_type": "execute_result"
    }
   ],
   "source": [
    "choques_nyc.factor_contribuyente_vehiculo_5.unique()"
   ]
  },
  {
   "cell_type": "code",
   "execution_count": 122,
   "metadata": {},
   "outputs": [
    {
     "data": {
      "text/plain": [
       "array(['Sedan', 'Station Wagon/Sport Utility Vehicle', 'Bus', 'Bike',\n",
       "       'Taxi', 'Motorcycle', 'Tractor Truck Diesel', 'Pick-Up Truck',\n",
       "       'Box Truck', 'Unknown', 'Ambulance', 'E-Bike', 'Van', 'Flat Bed',\n",
       "       'Moped', 'Garbage Or Refuse', 'Dump', 'Convertible', 'E-Scooter'],\n",
       "      dtype=object)"
      ]
     },
     "execution_count": 122,
     "metadata": {},
     "output_type": "execute_result"
    }
   ],
   "source": [
    "choques_nyc.codigo_tipo_de_vehiculo_1.unique()"
   ]
  },
  {
   "cell_type": "code",
   "execution_count": 123,
   "metadata": {},
   "outputs": [
    {
     "name": "stderr",
     "output_type": "stream",
     "text": [
      "C:\\Users\\Kevin\\AppData\\Local\\Temp\\ipykernel_19020\\206431653.py:1: SettingWithCopyWarning: \n",
      "A value is trying to be set on a copy of a slice from a DataFrame\n",
      "\n",
      "See the caveats in the documentation: https://pandas.pydata.org/pandas-docs/stable/user_guide/indexing.html#returning-a-view-versus-a-copy\n",
      "  choques_nyc.codigo_tipo_de_vehiculo_1.replace(\n"
     ]
    }
   ],
   "source": [
    "choques_nyc.codigo_tipo_de_vehiculo_1.replace(\n",
    "    ['Station Wagon/Sport Utility Vehicle',\n",
    "    'Pick-Up Truck',\n",
    "    'Box Truck',\n",
    "    'Bus',\n",
    "    'Unknown',\n",
    "    'Ambulance',\n",
    "    'Bike',\n",
    "    'Van',\n",
    "    'Flat Bed',\n",
    "    'Moped',\n",
    "    'Tractor Truck Diesel',\n",
    "    'Dump',\n",
    "    'Motorcycle',\n",
    "    'Garbage Or Refuse'],\n",
    "    ['Camioneta/Vehiculo Utilitario Deportivo',\n",
    "    'Camioneta',\n",
    "    'Camion De Caja',\n",
    "    'Autobus',\n",
    "    'Desconocido',\n",
    "    'Ambulancia',\n",
    "    'Motocicleta',\n",
    "    'Furgoneta',\n",
    "    'Camion',\n",
    "    'Motocicleta',\n",
    "    'Tractor',\n",
    "    'Camion De Basura',\n",
    "    'Motocicleta',\n",
    "    'Camion De Basura'], inplace= True\n",
    ")"
   ]
  },
  {
   "cell_type": "code",
   "execution_count": 124,
   "metadata": {},
   "outputs": [
    {
     "name": "stderr",
     "output_type": "stream",
     "text": [
      "C:\\Users\\Kevin\\AppData\\Local\\Temp\\ipykernel_19020\\51666981.py:1: SettingWithCopyWarning: \n",
      "A value is trying to be set on a copy of a slice from a DataFrame\n",
      "\n",
      "See the caveats in the documentation: https://pandas.pydata.org/pandas-docs/stable/user_guide/indexing.html#returning-a-view-versus-a-copy\n",
      "  choques_nyc.codigo_tipo_de_vehiculo_2.replace(\n"
     ]
    }
   ],
   "source": [
    "choques_nyc.codigo_tipo_de_vehiculo_2.replace(\n",
    "    ['Station Wagon/Sport Utility Vehicle',\n",
    "    'Pick-Up Truck',\n",
    "    'Box Truck',\n",
    "    'Bus',\n",
    "    'Unknown',\n",
    "    'Ambulance',\n",
    "    'Bike',\n",
    "    'Van',\n",
    "    'Flat Bed',\n",
    "    'Moped',\n",
    "    'Tractor Truck Diesel',\n",
    "    'Dump',\n",
    "    'Motorcycle',\n",
    "    'Garbage Or Refuse'],\n",
    "    ['Camioneta/Vehiculo Utilitario Deportivo',\n",
    "    'Camioneta',\n",
    "    'Camion De Caja',\n",
    "    'Autobus',\n",
    "    'Desconocido',\n",
    "    'Ambulancia',\n",
    "    'Motocicleta',\n",
    "    'Furgoneta',\n",
    "    'Camion',\n",
    "    'Motocicleta',\n",
    "    'Tractor',\n",
    "    'Camion De Basura',\n",
    "    'Motocicleta',\n",
    "    'Camion De Basura'], inplace= True\n",
    ")"
   ]
  },
  {
   "cell_type": "code",
   "execution_count": 125,
   "metadata": {},
   "outputs": [
    {
     "name": "stderr",
     "output_type": "stream",
     "text": [
      "C:\\Users\\Kevin\\AppData\\Local\\Temp\\ipykernel_19020\\830710450.py:1: SettingWithCopyWarning: \n",
      "A value is trying to be set on a copy of a slice from a DataFrame\n",
      "\n",
      "See the caveats in the documentation: https://pandas.pydata.org/pandas-docs/stable/user_guide/indexing.html#returning-a-view-versus-a-copy\n",
      "  choques_nyc.codigo_tipo_de_vehiculo_3.replace(\n"
     ]
    }
   ],
   "source": [
    "choques_nyc.codigo_tipo_de_vehiculo_3.replace(\n",
    "    ['Station Wagon/Sport Utility Vehicle',\n",
    "    'Pick-Up Truck',\n",
    "    'Box Truck',\n",
    "    'Bus',\n",
    "    'Unknown',\n",
    "    'Ambulance',\n",
    "    'Bike',\n",
    "    'Van',\n",
    "    'Flat Bed',\n",
    "    'Moped',\n",
    "    'Tractor Truck Diesel',\n",
    "    'Dump',\n",
    "    'Motorcycle',\n",
    "    'Garbage Or Refuse'],\n",
    "    ['Camioneta/Vehiculo Utilitario Deportivo',\n",
    "    'Camioneta',\n",
    "    'Camion De Caja',\n",
    "    'Autobus',\n",
    "    'Desconocido',\n",
    "    'Ambulancia',\n",
    "    'Motocicleta',\n",
    "    'Furgoneta',\n",
    "    'Camion',\n",
    "    'Motocicleta',\n",
    "    'Tractor',\n",
    "    'Camion De Basura',\n",
    "    'Motocicleta',\n",
    "    'Camion De Basura'], inplace= True\n",
    ")"
   ]
  },
  {
   "cell_type": "code",
   "execution_count": 126,
   "metadata": {},
   "outputs": [
    {
     "name": "stderr",
     "output_type": "stream",
     "text": [
      "C:\\Users\\Kevin\\AppData\\Local\\Temp\\ipykernel_19020\\439636689.py:1: SettingWithCopyWarning: \n",
      "A value is trying to be set on a copy of a slice from a DataFrame\n",
      "\n",
      "See the caveats in the documentation: https://pandas.pydata.org/pandas-docs/stable/user_guide/indexing.html#returning-a-view-versus-a-copy\n",
      "  choques_nyc.codigo_tipo_de_vehiculo_4.replace(\n"
     ]
    }
   ],
   "source": [
    "choques_nyc.codigo_tipo_de_vehiculo_4.replace(\n",
    "    ['Station Wagon/Sport Utility Vehicle',\n",
    "    'Pick-Up Truck',\n",
    "    'Box Truck',\n",
    "    'Bus',\n",
    "    'Unknown',\n",
    "    'Ambulance',\n",
    "    'Bike',\n",
    "    'Van',\n",
    "    'Flat Bed',\n",
    "    'Moped',\n",
    "    'Tractor Truck Diesel',\n",
    "    'Dump',\n",
    "    'Motorcycle',\n",
    "    'Garbage Or Refuse'],\n",
    "    ['Camioneta/Vehiculo Utilitario Deportivo',\n",
    "    'Camioneta',\n",
    "    'Camion De Caja',\n",
    "    'Autobus',\n",
    "    'Desconocido',\n",
    "    'Ambulancia',\n",
    "    'Motocicleta',\n",
    "    'Furgoneta',\n",
    "    'Camion',\n",
    "    'Motocicleta',\n",
    "    'Tractor',\n",
    "    'Camion De Basura',\n",
    "    'Motocicleta',\n",
    "    'Camion De Basura'], inplace= True\n",
    ")"
   ]
  },
  {
   "cell_type": "code",
   "execution_count": 127,
   "metadata": {},
   "outputs": [
    {
     "name": "stderr",
     "output_type": "stream",
     "text": [
      "C:\\Users\\Kevin\\AppData\\Local\\Temp\\ipykernel_19020\\1373640272.py:1: SettingWithCopyWarning: \n",
      "A value is trying to be set on a copy of a slice from a DataFrame\n",
      "\n",
      "See the caveats in the documentation: https://pandas.pydata.org/pandas-docs/stable/user_guide/indexing.html#returning-a-view-versus-a-copy\n",
      "  choques_nyc.codigo_tipo_de_vehiculo_5.replace(\n"
     ]
    }
   ],
   "source": [
    "choques_nyc.codigo_tipo_de_vehiculo_5.replace(\n",
    "    ['Station Wagon/Sport Utility Vehicle',\n",
    "    'Pick-Up Truck',\n",
    "    'Box Truck',\n",
    "    'Bus',\n",
    "    'Unknown',\n",
    "    'Ambulance',\n",
    "    'Bike',\n",
    "    'Van',\n",
    "    'Flat Bed',\n",
    "    'Moped',\n",
    "    'Tractor Truck Diesel',\n",
    "    'Dump',\n",
    "    'Motorcycle',\n",
    "    'Garbage Or Refuse'],\n",
    "    ['Camioneta/Vehiculo Utilitario Deportivo',\n",
    "    'Camioneta',\n",
    "    'Camion De Caja',\n",
    "    'Autobus',\n",
    "    'Desconocido',\n",
    "    'Ambulancia',\n",
    "    'Motocicleta',\n",
    "    'Furgoneta',\n",
    "    'Camion',\n",
    "    'Motocicleta',\n",
    "    'Tractor',\n",
    "    'Camion De Basura',\n",
    "    'Motocicleta',\n",
    "    'Camion De Basura'], inplace= True\n",
    ")"
   ]
  },
  {
   "cell_type": "code",
   "execution_count": 128,
   "metadata": {},
   "outputs": [
    {
     "data": {
      "text/plain": [
       "array(['Sedan', 'Camioneta/Vehiculo Utilitario Deportivo', 'Autobus',\n",
       "       'Motocicleta', 'Taxi', 'Tractor', 'Camioneta', 'Camion De Caja',\n",
       "       'Desconocido', 'Ambulancia', 'E-Bike', 'Furgoneta', 'Camion',\n",
       "       'Camion De Basura', 'Convertible', 'E-Scooter'], dtype=object)"
      ]
     },
     "execution_count": 128,
     "metadata": {},
     "output_type": "execute_result"
    }
   ],
   "source": [
    "choques_nyc.codigo_tipo_de_vehiculo_1.unique()"
   ]
  },
  {
   "cell_type": "code",
   "execution_count": 129,
   "metadata": {},
   "outputs": [
    {
     "data": {
      "text/plain": [
       "Index(['colision_fecha', 'colision_hora', 'latitud', 'longitud', 'ubicacion',\n",
       "       'nombre_de_calle', 'numero_de_personas_heridas',\n",
       "       'numero_de_personas_fallecidas', 'numero_de_peatones_heridos',\n",
       "       'numero_de_peatones_fallecidos', 'numero_de_ciclistas_heridos',\n",
       "       'numero_de_ciclistas_fallecidos', 'numero_de_conductores_heridos',\n",
       "       'numero_de_conductores_fallecidos', 'factor_contribuyente_vehiculo_1',\n",
       "       'factor_contribuyente_vehiculo_2', 'colision_ID',\n",
       "       'codigo_tipo_de_vehiculo_1', 'codigo_tipo_de_vehiculo_2', 'localidad',\n",
       "       'codigo_postal', 'calle_interseccion', 'nombre_fuera_de_calle',\n",
       "       'factor_contribuyente_vehiculo_3', 'factor_contribuyente_vehiculo_4',\n",
       "       'codigo_tipo_de_vehiculo_3', 'codigo_tipo_de_vehiculo_4',\n",
       "       'factor_contribuyente_vehiculo_5', 'codigo_tipo_de_vehiculo_5',\n",
       "       'colision_fecha_hora', 'anio', 'mes', 'dia', 'hora'],\n",
       "      dtype='object')"
      ]
     },
     "execution_count": 129,
     "metadata": {},
     "output_type": "execute_result"
    }
   ],
   "source": [
    "choques_nyc.columns"
   ]
  },
  {
   "cell_type": "code",
   "execution_count": 130,
   "metadata": {},
   "outputs": [
    {
     "name": "stderr",
     "output_type": "stream",
     "text": [
      "C:\\Users\\Kevin\\AppData\\Local\\Temp\\ipykernel_19020\\2697252169.py:1: SettingWithCopyWarning: \n",
      "A value is trying to be set on a copy of a slice from a DataFrame.\n",
      "Try using .loc[row_indexer,col_indexer] = value instead\n",
      "\n",
      "See the caveats in the documentation: https://pandas.pydata.org/pandas-docs/stable/user_guide/indexing.html#returning-a-view-versus-a-copy\n",
      "  choques_nyc['tipo_causante']= choques_nyc['codigo_tipo_de_vehiculo_1']\n"
     ]
    }
   ],
   "source": [
    "choques_nyc['tipo_causante']= choques_nyc['codigo_tipo_de_vehiculo_1']"
   ]
  },
  {
   "cell_type": "code",
   "execution_count": 131,
   "metadata": {},
   "outputs": [],
   "source": [
    "choques_nyc.loc[(choques_nyc.codigo_tipo_de_vehiculo_1 != 'Desconocido'),'codigo_tipo_de_vehiculo_1']=1\n",
    "choques_nyc.loc[(choques_nyc.codigo_tipo_de_vehiculo_2 != 'Desconocido'),'codigo_tipo_de_vehiculo_2']=1\n",
    "choques_nyc.loc[(choques_nyc.codigo_tipo_de_vehiculo_3 != 'Desconocido'),'codigo_tipo_de_vehiculo_3']=1\n",
    "choques_nyc.loc[(choques_nyc.codigo_tipo_de_vehiculo_4 != 'Desconocido'),'codigo_tipo_de_vehiculo_4']=1\n",
    "choques_nyc.loc[(choques_nyc.codigo_tipo_de_vehiculo_5 != 'Desconocido'),'codigo_tipo_de_vehiculo_5']=1"
   ]
  },
  {
   "cell_type": "code",
   "execution_count": 132,
   "metadata": {},
   "outputs": [],
   "source": [
    "choques_nyc.loc[(choques_nyc.codigo_tipo_de_vehiculo_1 == 'Desconocido'),'codigo_tipo_de_vehiculo_1']=0\n",
    "choques_nyc.loc[(choques_nyc.codigo_tipo_de_vehiculo_2 == 'Desconocido'),'codigo_tipo_de_vehiculo_2']=0\n",
    "choques_nyc.loc[(choques_nyc.codigo_tipo_de_vehiculo_3 == 'Desconocido'),'codigo_tipo_de_vehiculo_3']=0\n",
    "choques_nyc.loc[(choques_nyc.codigo_tipo_de_vehiculo_4 == 'Desconocido'),'codigo_tipo_de_vehiculo_4']=0\n",
    "choques_nyc.loc[(choques_nyc.codigo_tipo_de_vehiculo_5 == 'Desconocido'),'codigo_tipo_de_vehiculo_5']=0"
   ]
  },
  {
   "cell_type": "code",
   "execution_count": 133,
   "metadata": {},
   "outputs": [
    {
     "name": "stderr",
     "output_type": "stream",
     "text": [
      "C:\\Users\\Kevin\\AppData\\Local\\Temp\\ipykernel_19020\\2346095221.py:1: SettingWithCopyWarning: \n",
      "A value is trying to be set on a copy of a slice from a DataFrame.\n",
      "Try using .loc[row_indexer,col_indexer] = value instead\n",
      "\n",
      "See the caveats in the documentation: https://pandas.pydata.org/pandas-docs/stable/user_guide/indexing.html#returning-a-view-versus-a-copy\n",
      "  choques_nyc['cantidad_autos_choque']= choques_nyc['codigo_tipo_de_vehiculo_1']+choques_nyc['codigo_tipo_de_vehiculo_2'] + choques_nyc['codigo_tipo_de_vehiculo_3'] + choques_nyc['codigo_tipo_de_vehiculo_4'] + choques_nyc['codigo_tipo_de_vehiculo_5']\n"
     ]
    }
   ],
   "source": [
    "choques_nyc['cantidad_autos_choque']= choques_nyc['codigo_tipo_de_vehiculo_1']+choques_nyc['codigo_tipo_de_vehiculo_2'] + choques_nyc['codigo_tipo_de_vehiculo_3'] + choques_nyc['codigo_tipo_de_vehiculo_4'] + choques_nyc['codigo_tipo_de_vehiculo_5']"
   ]
  },
  {
   "cell_type": "code",
   "execution_count": 134,
   "metadata": {},
   "outputs": [
    {
     "name": "stderr",
     "output_type": "stream",
     "text": [
      "C:\\Users\\Kevin\\AppData\\Local\\Temp\\ipykernel_19020\\1774733682.py:1: SettingWithCopyWarning: \n",
      "A value is trying to be set on a copy of a slice from a DataFrame\n",
      "\n",
      "See the caveats in the documentation: https://pandas.pydata.org/pandas-docs/stable/user_guide/indexing.html#returning-a-view-versus-a-copy\n",
      "  choques_nyc['numero_de_personas_heridas'].fillna(0, inplace=True)\n",
      "C:\\Users\\Kevin\\AppData\\Local\\Temp\\ipykernel_19020\\1774733682.py:2: SettingWithCopyWarning: \n",
      "A value is trying to be set on a copy of a slice from a DataFrame\n",
      "\n",
      "See the caveats in the documentation: https://pandas.pydata.org/pandas-docs/stable/user_guide/indexing.html#returning-a-view-versus-a-copy\n",
      "  choques_nyc['numero_de_personas_fallecidas'].fillna(0, inplace=True)\n",
      "C:\\Users\\Kevin\\AppData\\Local\\Temp\\ipykernel_19020\\1774733682.py:3: SettingWithCopyWarning: \n",
      "A value is trying to be set on a copy of a slice from a DataFrame\n",
      "\n",
      "See the caveats in the documentation: https://pandas.pydata.org/pandas-docs/stable/user_guide/indexing.html#returning-a-view-versus-a-copy\n",
      "  choques_nyc['numero_de_peatones_heridos'].fillna(0, inplace=True)\n",
      "C:\\Users\\Kevin\\AppData\\Local\\Temp\\ipykernel_19020\\1774733682.py:4: SettingWithCopyWarning: \n",
      "A value is trying to be set on a copy of a slice from a DataFrame\n",
      "\n",
      "See the caveats in the documentation: https://pandas.pydata.org/pandas-docs/stable/user_guide/indexing.html#returning-a-view-versus-a-copy\n",
      "  choques_nyc['numero_de_peatones_fallecidos'].fillna(0, inplace=True)\n",
      "C:\\Users\\Kevin\\AppData\\Local\\Temp\\ipykernel_19020\\1774733682.py:5: SettingWithCopyWarning: \n",
      "A value is trying to be set on a copy of a slice from a DataFrame\n",
      "\n",
      "See the caveats in the documentation: https://pandas.pydata.org/pandas-docs/stable/user_guide/indexing.html#returning-a-view-versus-a-copy\n",
      "  choques_nyc['numero_de_ciclistas_heridos'].fillna(0, inplace=True)\n",
      "C:\\Users\\Kevin\\AppData\\Local\\Temp\\ipykernel_19020\\1774733682.py:6: SettingWithCopyWarning: \n",
      "A value is trying to be set on a copy of a slice from a DataFrame\n",
      "\n",
      "See the caveats in the documentation: https://pandas.pydata.org/pandas-docs/stable/user_guide/indexing.html#returning-a-view-versus-a-copy\n",
      "  choques_nyc['numero_de_ciclistas_fallecidos'].fillna(0, inplace=True)\n",
      "C:\\Users\\Kevin\\AppData\\Local\\Temp\\ipykernel_19020\\1774733682.py:7: SettingWithCopyWarning: \n",
      "A value is trying to be set on a copy of a slice from a DataFrame\n",
      "\n",
      "See the caveats in the documentation: https://pandas.pydata.org/pandas-docs/stable/user_guide/indexing.html#returning-a-view-versus-a-copy\n",
      "  choques_nyc['numero_de_conductores_heridos'].fillna(0, inplace=True)\n",
      "C:\\Users\\Kevin\\AppData\\Local\\Temp\\ipykernel_19020\\1774733682.py:8: SettingWithCopyWarning: \n",
      "A value is trying to be set on a copy of a slice from a DataFrame\n",
      "\n",
      "See the caveats in the documentation: https://pandas.pydata.org/pandas-docs/stable/user_guide/indexing.html#returning-a-view-versus-a-copy\n",
      "  choques_nyc['numero_de_conductores_fallecidos'].fillna(0, inplace=True)\n"
     ]
    }
   ],
   "source": [
    "choques_nyc['numero_de_personas_heridas'].fillna(0, inplace=True)\n",
    "choques_nyc['numero_de_personas_fallecidas'].fillna(0, inplace=True)\n",
    "choques_nyc['numero_de_peatones_heridos'].fillna(0, inplace=True)\n",
    "choques_nyc['numero_de_peatones_fallecidos'].fillna(0, inplace=True)\n",
    "choques_nyc['numero_de_ciclistas_heridos'].fillna(0, inplace=True)\n",
    "choques_nyc['numero_de_ciclistas_fallecidos'].fillna(0, inplace=True)\n",
    "choques_nyc['numero_de_conductores_heridos'].fillna(0, inplace=True)\n",
    "choques_nyc['numero_de_conductores_fallecidos'].fillna(0, inplace=True)"
   ]
  },
  {
   "cell_type": "code",
   "execution_count": 135,
   "metadata": {},
   "outputs": [
    {
     "name": "stderr",
     "output_type": "stream",
     "text": [
      "C:\\Users\\Kevin\\AppData\\Local\\Temp\\ipykernel_19020\\3398349128.py:1: SettingWithCopyWarning: \n",
      "A value is trying to be set on a copy of a slice from a DataFrame.\n",
      "Try using .loc[row_indexer,col_indexer] = value instead\n",
      "\n",
      "See the caveats in the documentation: https://pandas.pydata.org/pandas-docs/stable/user_guide/indexing.html#returning-a-view-versus-a-copy\n",
      "  choques_nyc['numero_de_personas_heridas']=choques_nyc['numero_de_personas_heridas'].astype(int)\n",
      "C:\\Users\\Kevin\\AppData\\Local\\Temp\\ipykernel_19020\\3398349128.py:2: SettingWithCopyWarning: \n",
      "A value is trying to be set on a copy of a slice from a DataFrame.\n",
      "Try using .loc[row_indexer,col_indexer] = value instead\n",
      "\n",
      "See the caveats in the documentation: https://pandas.pydata.org/pandas-docs/stable/user_guide/indexing.html#returning-a-view-versus-a-copy\n",
      "  choques_nyc['numero_de_personas_fallecidas']= choques_nyc['numero_de_personas_fallecidas'].astype(int)\n",
      "C:\\Users\\Kevin\\AppData\\Local\\Temp\\ipykernel_19020\\3398349128.py:3: SettingWithCopyWarning: \n",
      "A value is trying to be set on a copy of a slice from a DataFrame.\n",
      "Try using .loc[row_indexer,col_indexer] = value instead\n",
      "\n",
      "See the caveats in the documentation: https://pandas.pydata.org/pandas-docs/stable/user_guide/indexing.html#returning-a-view-versus-a-copy\n",
      "  choques_nyc['numero_de_peatones_heridos']= choques_nyc['numero_de_peatones_heridos'].astype(int)\n",
      "C:\\Users\\Kevin\\AppData\\Local\\Temp\\ipykernel_19020\\3398349128.py:4: SettingWithCopyWarning: \n",
      "A value is trying to be set on a copy of a slice from a DataFrame.\n",
      "Try using .loc[row_indexer,col_indexer] = value instead\n",
      "\n",
      "See the caveats in the documentation: https://pandas.pydata.org/pandas-docs/stable/user_guide/indexing.html#returning-a-view-versus-a-copy\n",
      "  choques_nyc['numero_de_peatones_fallecidos']= choques_nyc['numero_de_peatones_fallecidos'].astype(int)\n",
      "C:\\Users\\Kevin\\AppData\\Local\\Temp\\ipykernel_19020\\3398349128.py:5: SettingWithCopyWarning: \n",
      "A value is trying to be set on a copy of a slice from a DataFrame.\n",
      "Try using .loc[row_indexer,col_indexer] = value instead\n",
      "\n",
      "See the caveats in the documentation: https://pandas.pydata.org/pandas-docs/stable/user_guide/indexing.html#returning-a-view-versus-a-copy\n",
      "  choques_nyc['numero_de_ciclistas_heridos']= choques_nyc['numero_de_ciclistas_heridos'].astype(int)\n",
      "C:\\Users\\Kevin\\AppData\\Local\\Temp\\ipykernel_19020\\3398349128.py:6: SettingWithCopyWarning: \n",
      "A value is trying to be set on a copy of a slice from a DataFrame.\n",
      "Try using .loc[row_indexer,col_indexer] = value instead\n",
      "\n",
      "See the caveats in the documentation: https://pandas.pydata.org/pandas-docs/stable/user_guide/indexing.html#returning-a-view-versus-a-copy\n",
      "  choques_nyc['numero_de_ciclistas_fallecidos']= choques_nyc['numero_de_ciclistas_fallecidos'].astype(int)\n",
      "C:\\Users\\Kevin\\AppData\\Local\\Temp\\ipykernel_19020\\3398349128.py:7: SettingWithCopyWarning: \n",
      "A value is trying to be set on a copy of a slice from a DataFrame.\n",
      "Try using .loc[row_indexer,col_indexer] = value instead\n",
      "\n",
      "See the caveats in the documentation: https://pandas.pydata.org/pandas-docs/stable/user_guide/indexing.html#returning-a-view-versus-a-copy\n",
      "  choques_nyc['numero_de_conductores_heridos']= choques_nyc['numero_de_conductores_heridos'].astype(int)\n",
      "C:\\Users\\Kevin\\AppData\\Local\\Temp\\ipykernel_19020\\3398349128.py:8: SettingWithCopyWarning: \n",
      "A value is trying to be set on a copy of a slice from a DataFrame.\n",
      "Try using .loc[row_indexer,col_indexer] = value instead\n",
      "\n",
      "See the caveats in the documentation: https://pandas.pydata.org/pandas-docs/stable/user_guide/indexing.html#returning-a-view-versus-a-copy\n",
      "  choques_nyc['numero_de_conductores_fallecidos']= choques_nyc['numero_de_conductores_fallecidos'].astype(int)\n"
     ]
    }
   ],
   "source": [
    "choques_nyc['numero_de_personas_heridas']=choques_nyc['numero_de_personas_heridas'].astype(int)\n",
    "choques_nyc['numero_de_personas_fallecidas']= choques_nyc['numero_de_personas_fallecidas'].astype(int)\n",
    "choques_nyc['numero_de_peatones_heridos']= choques_nyc['numero_de_peatones_heridos'].astype(int)\n",
    "choques_nyc['numero_de_peatones_fallecidos']= choques_nyc['numero_de_peatones_fallecidos'].astype(int)\n",
    "choques_nyc['numero_de_ciclistas_heridos']= choques_nyc['numero_de_ciclistas_heridos'].astype(int)\n",
    "choques_nyc['numero_de_ciclistas_fallecidos']= choques_nyc['numero_de_ciclistas_fallecidos'].astype(int)\n",
    "choques_nyc['numero_de_conductores_heridos']= choques_nyc['numero_de_conductores_heridos'].astype(int)\n",
    "choques_nyc['numero_de_conductores_fallecidos']= choques_nyc['numero_de_conductores_fallecidos'].astype(int)"
   ]
  },
  {
   "cell_type": "code",
   "execution_count": 136,
   "metadata": {},
   "outputs": [
    {
     "name": "stderr",
     "output_type": "stream",
     "text": [
      "C:\\Users\\Kevin\\AppData\\Local\\Temp\\ipykernel_19020\\146870644.py:1: SettingWithCopyWarning: \n",
      "A value is trying to be set on a copy of a slice from a DataFrame.\n",
      "Try using .loc[row_indexer,col_indexer] = value instead\n",
      "\n",
      "See the caveats in the documentation: https://pandas.pydata.org/pandas-docs/stable/user_guide/indexing.html#returning-a-view-versus-a-copy\n",
      "  choques_nyc['numero_de_personas_fallecidas'] = choques_nyc['numero_de_personas_fallecidas'].apply(lambda x: x*2)\n",
      "C:\\Users\\Kevin\\AppData\\Local\\Temp\\ipykernel_19020\\146870644.py:2: SettingWithCopyWarning: \n",
      "A value is trying to be set on a copy of a slice from a DataFrame.\n",
      "Try using .loc[row_indexer,col_indexer] = value instead\n",
      "\n",
      "See the caveats in the documentation: https://pandas.pydata.org/pandas-docs/stable/user_guide/indexing.html#returning-a-view-versus-a-copy\n",
      "  choques_nyc['numero_de_peatones_fallecidos'] = choques_nyc['numero_de_peatones_fallecidos'].apply(lambda x: x*2)\n",
      "C:\\Users\\Kevin\\AppData\\Local\\Temp\\ipykernel_19020\\146870644.py:3: SettingWithCopyWarning: \n",
      "A value is trying to be set on a copy of a slice from a DataFrame.\n",
      "Try using .loc[row_indexer,col_indexer] = value instead\n",
      "\n",
      "See the caveats in the documentation: https://pandas.pydata.org/pandas-docs/stable/user_guide/indexing.html#returning-a-view-versus-a-copy\n",
      "  choques_nyc['numero_de_ciclistas_fallecidos'] = choques_nyc['numero_de_ciclistas_fallecidos'].apply(lambda x: x*2)\n",
      "C:\\Users\\Kevin\\AppData\\Local\\Temp\\ipykernel_19020\\146870644.py:4: SettingWithCopyWarning: \n",
      "A value is trying to be set on a copy of a slice from a DataFrame.\n",
      "Try using .loc[row_indexer,col_indexer] = value instead\n",
      "\n",
      "See the caveats in the documentation: https://pandas.pydata.org/pandas-docs/stable/user_guide/indexing.html#returning-a-view-versus-a-copy\n",
      "  choques_nyc['numero_de_conductores_fallecidos'] = choques_nyc['numero_de_conductores_fallecidos'].apply(lambda x: x*2)\n"
     ]
    }
   ],
   "source": [
    "choques_nyc['numero_de_personas_fallecidas'] = choques_nyc['numero_de_personas_fallecidas'].apply(lambda x: x*2)\n",
    "choques_nyc['numero_de_peatones_fallecidos'] = choques_nyc['numero_de_peatones_fallecidos'].apply(lambda x: x*2)\n",
    "choques_nyc['numero_de_ciclistas_fallecidos'] = choques_nyc['numero_de_ciclistas_fallecidos'].apply(lambda x: x*2)\n",
    "choques_nyc['numero_de_conductores_fallecidos'] = choques_nyc['numero_de_conductores_fallecidos'].apply(lambda x: x*2)"
   ]
  },
  {
   "cell_type": "code",
   "execution_count": 137,
   "metadata": {},
   "outputs": [],
   "source": [
    "columnas=['numero_de_personas_fallecidas', 'numero_de_peatones_fallecidos', 'numero_de_ciclistas_fallecidos', 'numero_de_conductores_fallecidos', 'numero_de_personas_heridas', 'numero_de_peatones_heridos', 'numero_de_ciclistas_heridos', 'numero_de_conductores_heridos']"
   ]
  },
  {
   "cell_type": "code",
   "execution_count": 138,
   "metadata": {},
   "outputs": [
    {
     "name": "stderr",
     "output_type": "stream",
     "text": [
      "C:\\Users\\Kevin\\AppData\\Local\\Temp\\ipykernel_19020\\467996619.py:1: SettingWithCopyWarning: \n",
      "A value is trying to be set on a copy of a slice from a DataFrame.\n",
      "Try using .loc[row_indexer,col_indexer] = value instead\n",
      "\n",
      "See the caveats in the documentation: https://pandas.pydata.org/pandas-docs/stable/user_guide/indexing.html#returning-a-view-versus-a-copy\n",
      "  choques_nyc['letalidad']= choques_nyc[columnas].sum(axis=1)\n"
     ]
    }
   ],
   "source": [
    "choques_nyc['letalidad']= choques_nyc[columnas].sum(axis=1)"
   ]
  },
  {
   "cell_type": "code",
   "execution_count": 139,
   "metadata": {},
   "outputs": [
    {
     "data": {
      "text/plain": [
       "array([0, 2, 4, 6, 8], dtype=int64)"
      ]
     },
     "execution_count": 139,
     "metadata": {},
     "output_type": "execute_result"
    }
   ],
   "source": [
    "choques_nyc.numero_de_conductores_fallecidos.unique()"
   ]
  },
  {
   "cell_type": "code",
   "execution_count": 140,
   "metadata": {},
   "outputs": [
    {
     "name": "stderr",
     "output_type": "stream",
     "text": [
      "C:\\Users\\Kevin\\AppData\\Local\\Temp\\ipykernel_19020\\244482025.py:1: SettingWithCopyWarning: \n",
      "A value is trying to be set on a copy of a slice from a DataFrame.\n",
      "Try using .loc[row_indexer,col_indexer] = value instead\n",
      "\n",
      "See the caveats in the documentation: https://pandas.pydata.org/pandas-docs/stable/user_guide/indexing.html#returning-a-view-versus-a-copy\n",
      "  choques_nyc['latitud']= choques_nyc['latitud'].astype(float)\n",
      "C:\\Users\\Kevin\\AppData\\Local\\Temp\\ipykernel_19020\\244482025.py:2: SettingWithCopyWarning: \n",
      "A value is trying to be set on a copy of a slice from a DataFrame.\n",
      "Try using .loc[row_indexer,col_indexer] = value instead\n",
      "\n",
      "See the caveats in the documentation: https://pandas.pydata.org/pandas-docs/stable/user_guide/indexing.html#returning-a-view-versus-a-copy\n",
      "  choques_nyc['longitud']= choques_nyc['longitud'].astype(float)\n"
     ]
    }
   ],
   "source": [
    "choques_nyc['latitud']= choques_nyc['latitud'].astype(float)\n",
    "choques_nyc['longitud']= choques_nyc['longitud'].astype(float)"
   ]
  },
  {
   "cell_type": "code",
   "execution_count": 141,
   "metadata": {},
   "outputs": [],
   "source": [
    "choques_nyc=choques_nyc.dropna(subset=['latitud', 'longitud']).reset_index(drop=True)"
   ]
  },
  {
   "cell_type": "code",
   "execution_count": 142,
   "metadata": {},
   "outputs": [],
   "source": [
    "prototipo= pd.DataFrame().assign(id_choque=choques_nyc['colision_ID'],fecha_y_hora= choques_nyc['colision_fecha_hora'],anio= choques_nyc['anio'],mes=choques_nyc['mes'],dia=choques_nyc['dia'],latitud=choques_nyc['latitud'], longitud=choques_nyc['longitud'], auto_causante=choques_nyc['tipo_causante'],localidad=choques_nyc['localidad'],codigo_potal=choques_nyc['codigo_postal'], cantidad_autos_choque=choques_nyc['cantidad_autos_choque'],letalidad=choques_nyc['letalidad'] )"
   ]
  },
  {
   "cell_type": "code",
   "execution_count": 143,
   "metadata": {},
   "outputs": [],
   "source": [
    "prototipo = prototipo.set_index('id_choque')"
   ]
  },
  {
   "cell_type": "code",
   "execution_count": 144,
   "metadata": {},
   "outputs": [],
   "source": [
    "principal_sql=prototipo \n",
    "principal_sql.drop('fecha_y_hora', axis=1, inplace=True)"
   ]
  },
  {
   "cell_type": "code",
   "execution_count": 145,
   "metadata": {},
   "outputs": [
    {
     "data": {
      "text/plain": [
       "Index(['anio', 'mes', 'dia', 'latitud', 'longitud', 'auto_causante',\n",
       "       'localidad', 'codigo_potal', 'cantidad_autos_choque', 'letalidad'],\n",
       "      dtype='object')"
      ]
     },
     "execution_count": 145,
     "metadata": {},
     "output_type": "execute_result"
    }
   ],
   "source": [
    "prototipo.columns"
   ]
  },
  {
   "cell_type": "code",
   "execution_count": 146,
   "metadata": {},
   "outputs": [
    {
     "data": {
      "text/plain": [
       "Index(['anio', 'mes', 'dia', 'latitud', 'longitud', 'auto_causante',\n",
       "       'localidad', 'codigo_potal', 'cantidad_autos_choque', 'letalidad'],\n",
       "      dtype='object')"
      ]
     },
     "execution_count": 146,
     "metadata": {},
     "output_type": "execute_result"
    }
   ],
   "source": [
    "principal_sql.columns"
   ]
  },
  {
   "cell_type": "code",
   "execution_count": 147,
   "metadata": {},
   "outputs": [
    {
     "data": {
      "text/plain": [
       "array(['Sedan', 'Camioneta/Vehiculo Utilitario Deportivo', 'Tractor',\n",
       "       'Camioneta', 'Camion De Caja', 'Desconocido', 'Ambulancia', 'Taxi',\n",
       "       'E-Bike', 'Furgoneta', 'Camion', 'Motocicleta', 'Autobus',\n",
       "       'Camion De Basura', 'Convertible', 'E-Scooter'], dtype=object)"
      ]
     },
     "execution_count": 147,
     "metadata": {},
     "output_type": "execute_result"
    }
   ],
   "source": [
    "prototipo.auto_causante.unique()"
   ]
  },
  {
   "cell_type": "code",
   "execution_count": 148,
   "metadata": {},
   "outputs": [
    {
     "data": {
      "text/plain": [
       "array(['Sedan', 'Camioneta/Vehiculo Utilitario Deportivo', 'Tractor',\n",
       "       'Camioneta', 'Camion De Caja', 'Desconocido', 'Ambulancia', 'Taxi',\n",
       "       'E-Bike', 'Furgoneta', 'Camion', 'Motocicleta', 'Autobus',\n",
       "       'Camion De Basura', 'Convertible', 'E-Scooter'], dtype=object)"
      ]
     },
     "execution_count": 148,
     "metadata": {},
     "output_type": "execute_result"
    }
   ],
   "source": [
    "principal_sql.auto_causante.unique()"
   ]
  },
  {
   "cell_type": "code",
   "execution_count": 149,
   "metadata": {},
   "outputs": [
    {
     "name": "stderr",
     "output_type": "stream",
     "text": [
      "C:\\Users\\Kevin\\AppData\\Local\\Temp\\ipykernel_19020\\1350600759.py:1: FutureWarning: The default value of regex will change from True to False in a future version.\n",
      "  prototipo['auto_causante']=prototipo['auto_causante'].str.replace('[^\\w\\s]', '')\n"
     ]
    }
   ],
   "source": [
    "prototipo['auto_causante']=prototipo['auto_causante'].str.replace('[^\\w\\s]', '')"
   ]
  },
  {
   "cell_type": "code",
   "execution_count": 150,
   "metadata": {},
   "outputs": [
    {
     "data": {
      "text/html": [
       "<div>\n",
       "<style scoped>\n",
       "    .dataframe tbody tr th:only-of-type {\n",
       "        vertical-align: middle;\n",
       "    }\n",
       "\n",
       "    .dataframe tbody tr th {\n",
       "        vertical-align: top;\n",
       "    }\n",
       "\n",
       "    .dataframe thead th {\n",
       "        text-align: right;\n",
       "    }\n",
       "</style>\n",
       "<table border=\"1\" class=\"dataframe\">\n",
       "  <thead>\n",
       "    <tr style=\"text-align: right;\">\n",
       "      <th></th>\n",
       "      <th>anio</th>\n",
       "      <th>mes</th>\n",
       "      <th>dia</th>\n",
       "      <th>latitud</th>\n",
       "      <th>longitud</th>\n",
       "      <th>auto_causante</th>\n",
       "      <th>localidad</th>\n",
       "      <th>codigo_potal</th>\n",
       "      <th>cantidad_autos_choque</th>\n",
       "      <th>letalidad</th>\n",
       "    </tr>\n",
       "    <tr>\n",
       "      <th>id_choque</th>\n",
       "      <th></th>\n",
       "      <th></th>\n",
       "      <th></th>\n",
       "      <th></th>\n",
       "      <th></th>\n",
       "      <th></th>\n",
       "      <th></th>\n",
       "      <th></th>\n",
       "      <th></th>\n",
       "      <th></th>\n",
       "    </tr>\n",
       "  </thead>\n",
       "  <tbody>\n",
       "    <tr>\n",
       "      <th>4547589</th>\n",
       "      <td>2022</td>\n",
       "      <td>7</td>\n",
       "      <td>20</td>\n",
       "      <td>40.835808</td>\n",
       "      <td>-73.890830</td>\n",
       "      <td>Sedan</td>\n",
       "      <td>NaN</td>\n",
       "      <td>NaN</td>\n",
       "      <td>2</td>\n",
       "      <td>0</td>\n",
       "    </tr>\n",
       "    <tr>\n",
       "      <th>4407147</th>\n",
       "      <td>2021</td>\n",
       "      <td>4</td>\n",
       "      <td>13</td>\n",
       "      <td>40.683580</td>\n",
       "      <td>-73.976170</td>\n",
       "      <td>Sedan</td>\n",
       "      <td>BROOKLYN</td>\n",
       "      <td>11217</td>\n",
       "      <td>1</td>\n",
       "      <td>2</td>\n",
       "    </tr>\n",
       "    <tr>\n",
       "      <th>4406885</th>\n",
       "      <td>2021</td>\n",
       "      <td>4</td>\n",
       "      <td>12</td>\n",
       "      <td>0.000000</td>\n",
       "      <td>0.000000</td>\n",
       "      <td>CamionetaVehiculo Utilitario Deportivo</td>\n",
       "      <td>NaN</td>\n",
       "      <td>NaN</td>\n",
       "      <td>2</td>\n",
       "      <td>0</td>\n",
       "    </tr>\n",
       "    <tr>\n",
       "      <th>4548548</th>\n",
       "      <td>2022</td>\n",
       "      <td>7</td>\n",
       "      <td>21</td>\n",
       "      <td>40.715070</td>\n",
       "      <td>-73.913270</td>\n",
       "      <td>Sedan</td>\n",
       "      <td>NaN</td>\n",
       "      <td>NaN</td>\n",
       "      <td>2</td>\n",
       "      <td>2</td>\n",
       "    </tr>\n",
       "    <tr>\n",
       "      <th>4136992</th>\n",
       "      <td>2019</td>\n",
       "      <td>5</td>\n",
       "      <td>21</td>\n",
       "      <td>40.697540</td>\n",
       "      <td>-73.983120</td>\n",
       "      <td>Tractor</td>\n",
       "      <td>BROOKLYN</td>\n",
       "      <td>11201</td>\n",
       "      <td>2</td>\n",
       "      <td>0</td>\n",
       "    </tr>\n",
       "    <tr>\n",
       "      <th>4395664</th>\n",
       "      <td>2021</td>\n",
       "      <td>2</td>\n",
       "      <td>26</td>\n",
       "      <td>40.843464</td>\n",
       "      <td>-73.836000</td>\n",
       "      <td>CamionetaVehiculo Utilitario Deportivo</td>\n",
       "      <td>BRONX</td>\n",
       "      <td>10461</td>\n",
       "      <td>1</td>\n",
       "      <td>0</td>\n",
       "    </tr>\n",
       "    <tr>\n",
       "      <th>4397513</th>\n",
       "      <td>2021</td>\n",
       "      <td>3</td>\n",
       "      <td>9</td>\n",
       "      <td>40.692547</td>\n",
       "      <td>-73.990974</td>\n",
       "      <td>Camioneta</td>\n",
       "      <td>NaN</td>\n",
       "      <td>NaN</td>\n",
       "      <td>2</td>\n",
       "      <td>2</td>\n",
       "    </tr>\n",
       "    <tr>\n",
       "      <th>4403773</th>\n",
       "      <td>2021</td>\n",
       "      <td>3</td>\n",
       "      <td>31</td>\n",
       "      <td>40.626457</td>\n",
       "      <td>-73.918000</td>\n",
       "      <td>Sedan</td>\n",
       "      <td>BROOKLYN</td>\n",
       "      <td>11234</td>\n",
       "      <td>2</td>\n",
       "      <td>2</td>\n",
       "    </tr>\n",
       "    <tr>\n",
       "      <th>4405244</th>\n",
       "      <td>2021</td>\n",
       "      <td>4</td>\n",
       "      <td>6</td>\n",
       "      <td>40.526894</td>\n",
       "      <td>-74.167280</td>\n",
       "      <td>CamionetaVehiculo Utilitario Deportivo</td>\n",
       "      <td>STATEN ISLAND</td>\n",
       "      <td>10312</td>\n",
       "      <td>2</td>\n",
       "      <td>14</td>\n",
       "    </tr>\n",
       "    <tr>\n",
       "      <th>4405914</th>\n",
       "      <td>2021</td>\n",
       "      <td>4</td>\n",
       "      <td>9</td>\n",
       "      <td>40.840775</td>\n",
       "      <td>-73.872460</td>\n",
       "      <td>Sedan</td>\n",
       "      <td>NaN</td>\n",
       "      <td>NaN</td>\n",
       "      <td>3</td>\n",
       "      <td>2</td>\n",
       "    </tr>\n",
       "  </tbody>\n",
       "</table>\n",
       "</div>"
      ],
      "text/plain": [
       "           anio  mes  dia    latitud   longitud  \\\n",
       "id_choque                                         \n",
       "4547589    2022    7   20  40.835808 -73.890830   \n",
       "4407147    2021    4   13  40.683580 -73.976170   \n",
       "4406885    2021    4   12   0.000000   0.000000   \n",
       "4548548    2022    7   21  40.715070 -73.913270   \n",
       "4136992    2019    5   21  40.697540 -73.983120   \n",
       "4395664    2021    2   26  40.843464 -73.836000   \n",
       "4397513    2021    3    9  40.692547 -73.990974   \n",
       "4403773    2021    3   31  40.626457 -73.918000   \n",
       "4405244    2021    4    6  40.526894 -74.167280   \n",
       "4405914    2021    4    9  40.840775 -73.872460   \n",
       "\n",
       "                                    auto_causante      localidad codigo_potal  \\\n",
       "id_choque                                                                       \n",
       "4547589                                     Sedan            NaN          NaN   \n",
       "4407147                                     Sedan       BROOKLYN        11217   \n",
       "4406885    CamionetaVehiculo Utilitario Deportivo            NaN          NaN   \n",
       "4548548                                     Sedan            NaN          NaN   \n",
       "4136992                                   Tractor       BROOKLYN        11201   \n",
       "4395664    CamionetaVehiculo Utilitario Deportivo          BRONX        10461   \n",
       "4397513                                 Camioneta            NaN          NaN   \n",
       "4403773                                     Sedan       BROOKLYN        11234   \n",
       "4405244    CamionetaVehiculo Utilitario Deportivo  STATEN ISLAND        10312   \n",
       "4405914                                     Sedan            NaN          NaN   \n",
       "\n",
       "          cantidad_autos_choque  letalidad  \n",
       "id_choque                                   \n",
       "4547589                       2          0  \n",
       "4407147                       1          2  \n",
       "4406885                       2          0  \n",
       "4548548                       2          2  \n",
       "4136992                       2          0  \n",
       "4395664                       1          0  \n",
       "4397513                       2          2  \n",
       "4403773                       2          2  \n",
       "4405244                       2         14  \n",
       "4405914                       3          2  "
      ]
     },
     "execution_count": 150,
     "metadata": {},
     "output_type": "execute_result"
    }
   ],
   "source": [
    "prototipo.head(10)"
   ]
  },
  {
   "cell_type": "code",
   "execution_count": 151,
   "metadata": {},
   "outputs": [],
   "source": [
    "results_df_robo['cmplnt_to_dt'].replace({'T00:00:00.000':''}, regex=True, inplace=True)\n",
    "results_df_robo['fecha_y_hora']=pd.to_datetime(results_df_robo['cmplnt_to_dt'] + results_df_robo['cmplnt_fr_tm'], format='%Y-%m-%d%H:%M:%S')"
   ]
  },
  {
   "cell_type": "code",
   "execution_count": 152,
   "metadata": {},
   "outputs": [],
   "source": [
    "crimen=results_df_robo[results_df_robo['fecha_y_hora'].dt.year.isin([2019,2020,2021,2022])]"
   ]
  },
  {
   "cell_type": "code",
   "execution_count": 153,
   "metadata": {},
   "outputs": [],
   "source": [
    "robo= pd.DataFrame().assign(fecha_y_hora= crimen['fecha_y_hora'], delito= crimen['pd_desc'], localidad= crimen['boro_nm'],latitud= crimen['latitude'],longitud= crimen['longitude'],)"
   ]
  },
  {
   "cell_type": "code",
   "execution_count": 154,
   "metadata": {},
   "outputs": [],
   "source": [
    "robo['anio'] = robo['fecha_y_hora'].dt.year\n",
    "robo['mes'] = robo['fecha_y_hora'].dt.month\n",
    "robo['dia'] = robo['fecha_y_hora'].dt.day\n",
    "robo['hora'] = robo['fecha_y_hora'].dt.time"
   ]
  },
  {
   "cell_type": "code",
   "execution_count": 155,
   "metadata": {},
   "outputs": [],
   "source": [
    "robo= robo.drop(robo[robo.delito != 'ROBBERY,CAR JACKING'].index).reset_index(drop=True)"
   ]
  },
  {
   "cell_type": "code",
   "execution_count": 156,
   "metadata": {},
   "outputs": [],
   "source": [
    "robo_sql=robo\n",
    "robo_sql.drop('fecha_y_hora', axis=1, inplace=True)\n",
    "robo_sql.drop('hora', axis=1, inplace=True)"
   ]
  },
  {
   "cell_type": "code",
   "execution_count": 157,
   "metadata": {},
   "outputs": [],
   "source": [
    "results_df_edad['crash_date'].replace({'T00:00:00.000':''}, regex=True, inplace=True)"
   ]
  },
  {
   "cell_type": "code",
   "execution_count": 158,
   "metadata": {},
   "outputs": [],
   "source": [
    "results_df_edad['crash_date_time']=pd.to_datetime(results_df_edad['crash_date'] + results_df_edad['crash_time'], format='%Y-%m-%d%H:%M')"
   ]
  },
  {
   "cell_type": "code",
   "execution_count": 159,
   "metadata": {},
   "outputs": [],
   "source": [
    "choques_df=results_df_edad[results_df_edad['crash_date_time'].dt.year.isin([2019,2020,2021,2022])].reset_index(drop=True)"
   ]
  },
  {
   "cell_type": "code",
   "execution_count": 160,
   "metadata": {},
   "outputs": [],
   "source": [
    "causa_df = pd.DataFrame().assign(id_choque=choques_df['collision_id'], fecha_hora=choques_df['crash_date_time'], sexo=choques_df['driver_sex'],anio_del_vehiculo=choques_df['vehicle_year'])"
   ]
  },
  {
   "cell_type": "code",
   "execution_count": 161,
   "metadata": {},
   "outputs": [],
   "source": [
    "causa_df['anio'] = causa_df['fecha_hora'].dt.year\n",
    "causa_df['mes'] = causa_df['fecha_hora'].dt.month\n",
    "causa_df['dia'] = causa_df['fecha_hora'].dt.day\n",
    "causa_df['hora'] = causa_df['fecha_hora'].dt.time"
   ]
  },
  {
   "cell_type": "code",
   "execution_count": 162,
   "metadata": {},
   "outputs": [],
   "source": [
    "causa_df = causa_df.set_index('id_choque')"
   ]
  },
  {
   "cell_type": "code",
   "execution_count": 164,
   "metadata": {},
   "outputs": [
    {
     "ename": "MemoryError",
     "evalue": "",
     "output_type": "error",
     "traceback": [
      "\u001b[1;31m---------------------------------------------------------------------------\u001b[0m",
      "\u001b[1;31mMemoryError\u001b[0m                               Traceback (most recent call last)",
      "\u001b[1;32mc:\\Users\\Kevin\\Desktop\\Clases Henry\\Proyecto_Grupal_Temp\\DTS_02_Proyecto_Grupal_Kevin\\main_dataset_v2.ipynb Cell 70\u001b[0m in \u001b[0;36m<cell line: 1>\u001b[1;34m()\u001b[0m\n\u001b[1;32m----> <a href='vscode-notebook-cell:/c%3A/Users/Kevin/Desktop/Clases%20Henry/Proyecto_Grupal_Temp/DTS_02_Proyecto_Grupal_Kevin/main_dataset_v2.ipynb#Y146sZmlsZQ%3D%3D?line=0'>1</a>\u001b[0m results_edad_2 \u001b[39m=\u001b[39m client_edad\u001b[39m.\u001b[39;49mget(\u001b[39m\"\u001b[39;49m\u001b[39mf55k-p6yu\u001b[39;49m\u001b[39m\"\u001b[39;49m, limit\u001b[39m=\u001b[39;49m\u001b[39m5000000\u001b[39;49m)\n\u001b[0;32m      <a href='vscode-notebook-cell:/c%3A/Users/Kevin/Desktop/Clases%20Henry/Proyecto_Grupal_Temp/DTS_02_Proyecto_Grupal_Kevin/main_dataset_v2.ipynb#Y146sZmlsZQ%3D%3D?line=1'>2</a>\u001b[0m results_df_edad_2 \u001b[39m=\u001b[39m pd\u001b[39m.\u001b[39mDataFrame\u001b[39m.\u001b[39mfrom_records(results_edad_2)\n",
      "File \u001b[1;32mc:\\Users\\Kevin\\AppData\\Local\\Programs\\Python\\Python310\\lib\\site-packages\\sodapy\\socrata.py:412\u001b[0m, in \u001b[0;36mSocrata.get\u001b[1;34m(self, dataset_identifier, content_type, **kwargs)\u001b[0m\n\u001b[0;32m    409\u001b[0m params\u001b[39m.\u001b[39mupdate(kwargs)\n\u001b[0;32m    410\u001b[0m params \u001b[39m=\u001b[39m utils\u001b[39m.\u001b[39mclear_empty_values(params)\n\u001b[1;32m--> 412\u001b[0m response \u001b[39m=\u001b[39m \u001b[39mself\u001b[39;49m\u001b[39m.\u001b[39;49m_perform_request(\n\u001b[0;32m    413\u001b[0m     \u001b[39m\"\u001b[39;49m\u001b[39mget\u001b[39;49m\u001b[39m\"\u001b[39;49m, resource, headers\u001b[39m=\u001b[39;49mheaders, params\u001b[39m=\u001b[39;49mparams\n\u001b[0;32m    414\u001b[0m )\n\u001b[0;32m    415\u001b[0m \u001b[39mreturn\u001b[39;00m response\n",
      "File \u001b[1;32mc:\\Users\\Kevin\\AppData\\Local\\Programs\\Python\\Python310\\lib\\site-packages\\sodapy\\socrata.py:551\u001b[0m, in \u001b[0;36mSocrata._perform_request\u001b[1;34m(self, request_type, resource, **kwargs)\u001b[0m\n\u001b[0;32m    548\u001b[0m \u001b[39m# set a timeout, just to be safe\u001b[39;00m\n\u001b[0;32m    549\u001b[0m kwargs[\u001b[39m\"\u001b[39m\u001b[39mtimeout\u001b[39m\u001b[39m\"\u001b[39m] \u001b[39m=\u001b[39m \u001b[39mself\u001b[39m\u001b[39m.\u001b[39mtimeout\n\u001b[1;32m--> 551\u001b[0m response \u001b[39m=\u001b[39m \u001b[39mgetattr\u001b[39m(\u001b[39mself\u001b[39m\u001b[39m.\u001b[39msession, request_type)(uri, \u001b[39m*\u001b[39m\u001b[39m*\u001b[39mkwargs)\n\u001b[0;32m    553\u001b[0m \u001b[39m# handle errors\u001b[39;00m\n\u001b[0;32m    554\u001b[0m \u001b[39mif\u001b[39;00m response\u001b[39m.\u001b[39mstatus_code \u001b[39mnot\u001b[39;00m \u001b[39min\u001b[39;00m (\u001b[39m200\u001b[39m, \u001b[39m202\u001b[39m):\n",
      "File \u001b[1;32mc:\\Users\\Kevin\\AppData\\Local\\Programs\\Python\\Python310\\lib\\site-packages\\requests\\sessions.py:600\u001b[0m, in \u001b[0;36mSession.get\u001b[1;34m(self, url, **kwargs)\u001b[0m\n\u001b[0;32m    592\u001b[0m \u001b[39mr\u001b[39m\u001b[39m\"\"\"Sends a GET request. Returns :class:`Response` object.\u001b[39;00m\n\u001b[0;32m    593\u001b[0m \n\u001b[0;32m    594\u001b[0m \u001b[39m:param url: URL for the new :class:`Request` object.\u001b[39;00m\n\u001b[0;32m    595\u001b[0m \u001b[39m:param \\*\\*kwargs: Optional arguments that ``request`` takes.\u001b[39;00m\n\u001b[0;32m    596\u001b[0m \u001b[39m:rtype: requests.Response\u001b[39;00m\n\u001b[0;32m    597\u001b[0m \u001b[39m\"\"\"\u001b[39;00m\n\u001b[0;32m    599\u001b[0m kwargs\u001b[39m.\u001b[39msetdefault(\u001b[39m\"\u001b[39m\u001b[39mallow_redirects\u001b[39m\u001b[39m\"\u001b[39m, \u001b[39mTrue\u001b[39;00m)\n\u001b[1;32m--> 600\u001b[0m \u001b[39mreturn\u001b[39;00m \u001b[39mself\u001b[39m\u001b[39m.\u001b[39mrequest(\u001b[39m\"\u001b[39m\u001b[39mGET\u001b[39m\u001b[39m\"\u001b[39m, url, \u001b[39m*\u001b[39m\u001b[39m*\u001b[39mkwargs)\n",
      "File \u001b[1;32mc:\\Users\\Kevin\\AppData\\Local\\Programs\\Python\\Python310\\lib\\site-packages\\requests\\sessions.py:587\u001b[0m, in \u001b[0;36mSession.request\u001b[1;34m(self, method, url, params, data, headers, cookies, files, auth, timeout, allow_redirects, proxies, hooks, stream, verify, cert, json)\u001b[0m\n\u001b[0;32m    582\u001b[0m send_kwargs \u001b[39m=\u001b[39m {\n\u001b[0;32m    583\u001b[0m     \u001b[39m\"\u001b[39m\u001b[39mtimeout\u001b[39m\u001b[39m\"\u001b[39m: timeout,\n\u001b[0;32m    584\u001b[0m     \u001b[39m\"\u001b[39m\u001b[39mallow_redirects\u001b[39m\u001b[39m\"\u001b[39m: allow_redirects,\n\u001b[0;32m    585\u001b[0m }\n\u001b[0;32m    586\u001b[0m send_kwargs\u001b[39m.\u001b[39mupdate(settings)\n\u001b[1;32m--> 587\u001b[0m resp \u001b[39m=\u001b[39m \u001b[39mself\u001b[39m\u001b[39m.\u001b[39msend(prep, \u001b[39m*\u001b[39m\u001b[39m*\u001b[39msend_kwargs)\n\u001b[0;32m    589\u001b[0m \u001b[39mreturn\u001b[39;00m resp\n",
      "File \u001b[1;32mc:\\Users\\Kevin\\AppData\\Local\\Programs\\Python\\Python310\\lib\\site-packages\\requests\\sessions.py:745\u001b[0m, in \u001b[0;36mSession.send\u001b[1;34m(self, request, **kwargs)\u001b[0m\n\u001b[0;32m    742\u001b[0m         \u001b[39mpass\u001b[39;00m\n\u001b[0;32m    744\u001b[0m \u001b[39mif\u001b[39;00m \u001b[39mnot\u001b[39;00m stream:\n\u001b[1;32m--> 745\u001b[0m     r\u001b[39m.\u001b[39;49mcontent\n\u001b[0;32m    747\u001b[0m \u001b[39mreturn\u001b[39;00m r\n",
      "File \u001b[1;32mc:\\Users\\Kevin\\AppData\\Local\\Programs\\Python\\Python310\\lib\\site-packages\\requests\\models.py:900\u001b[0m, in \u001b[0;36mResponse.content\u001b[1;34m(self)\u001b[0m\n\u001b[0;32m    898\u001b[0m         \u001b[39mself\u001b[39m\u001b[39m.\u001b[39m_content \u001b[39m=\u001b[39m \u001b[39mNone\u001b[39;00m\n\u001b[0;32m    899\u001b[0m     \u001b[39melse\u001b[39;00m:\n\u001b[1;32m--> 900\u001b[0m         \u001b[39mself\u001b[39m\u001b[39m.\u001b[39m_content \u001b[39m=\u001b[39m \u001b[39mb\u001b[39;49m\u001b[39m\"\u001b[39;49m\u001b[39m\"\u001b[39;49m\u001b[39m.\u001b[39;49mjoin(\u001b[39mself\u001b[39;49m\u001b[39m.\u001b[39;49miter_content(CONTENT_CHUNK_SIZE)) \u001b[39mor\u001b[39;00m \u001b[39mb\u001b[39m\u001b[39m\"\u001b[39m\u001b[39m\"\u001b[39m\n\u001b[0;32m    902\u001b[0m \u001b[39mself\u001b[39m\u001b[39m.\u001b[39m_content_consumed \u001b[39m=\u001b[39m \u001b[39mTrue\u001b[39;00m\n\u001b[0;32m    903\u001b[0m \u001b[39m# don't need to release the connection; that's been handled by urllib3\u001b[39;00m\n\u001b[0;32m    904\u001b[0m \u001b[39m# since we exhausted the data.\u001b[39;00m\n",
      "\u001b[1;31mMemoryError\u001b[0m: "
     ]
    }
   ],
   "source": [
    "results_edad_2 = client_edad.get(\"f55k-p6yu\", limit=5000000)\n",
    "results_df_edad_2 = pd.DataFrame.from_records(results_edad_2)"
   ]
  },
  {
   "cell_type": "code",
   "execution_count": null,
   "metadata": {},
   "outputs": [],
   "source": [
    "results_df_edad_2['crash_date'].replace({'T00:00:00.000':''}, regex=True, inplace=True)"
   ]
  },
  {
   "cell_type": "code",
   "execution_count": null,
   "metadata": {},
   "outputs": [],
   "source": [
    "results_df_edad_2['crash_date_time']=pd.to_datetime(results_df_edad_2['crash_date'] + results_df_edad_2['crash_time'], format='%Y-%m-%d%H:%M')"
   ]
  },
  {
   "cell_type": "code",
   "execution_count": null,
   "metadata": {},
   "outputs": [],
   "source": [
    "personas_df=results_df_edad_2[results_df_edad_2['crash_date_time'].dt.year.isin([2019,2020,2021,2022])].reset_index(drop=True)"
   ]
  },
  {
   "cell_type": "code",
   "execution_count": null,
   "metadata": {},
   "outputs": [],
   "source": [
    "edad = pd.DataFrame().assign(id_choque=personas_df['collision_id'], edad=personas_df['person_age'])"
   ]
  },
  {
   "cell_type": "code",
   "execution_count": null,
   "metadata": {},
   "outputs": [],
   "source": [
    "edad=edad.dropna(subset=['edad']).reset_index(drop=True)"
   ]
  },
  {
   "cell_type": "code",
   "execution_count": null,
   "metadata": {},
   "outputs": [],
   "source": [
    "edad['edad'] = edad['edad'].astype(int)"
   ]
  },
  {
   "cell_type": "code",
   "execution_count": null,
   "metadata": {},
   "outputs": [],
   "source": [
    "edad = edad.drop(edad[edad.edad > 80].index).reset_index(drop=True)\n",
    "edad = edad.drop(edad[edad.edad < 16].index).reset_index(drop=True)"
   ]
  },
  {
   "cell_type": "code",
   "execution_count": null,
   "metadata": {},
   "outputs": [],
   "source": [
    "bins= [0,16,22,36,51,102]\n",
    "labels = ['menor','adolescente','adulto','adulto_mayor','mayor']\n",
    "edad['rango_etario'] = pd.cut(edad['edad'], bins=bins, labels=labels, right=False)"
   ]
  },
  {
   "cell_type": "code",
   "execution_count": null,
   "metadata": {},
   "outputs": [],
   "source": [
    "causa2=causa_df"
   ]
  },
  {
   "cell_type": "code",
   "execution_count": null,
   "metadata": {},
   "outputs": [],
   "source": [
    "causa2.drop('fecha_hora', axis=1, inplace=True)\n",
    "causa2.drop('hora', axis=1, inplace=True)"
   ]
  },
  {
   "cell_type": "code",
   "execution_count": null,
   "metadata": {},
   "outputs": [],
   "source": [
    "prototipo.to_csv('principal_sql.csv', sep='|')\n",
    "robo_sql.to_csv('robo_sql.csv', sep='|')\n",
    "edad.to_csv('edad_sql.csv', sep='|')\n",
    "causa2.to_csv('causa_sql.csv', sep='|')"
   ]
  }
 ],
 "metadata": {
  "kernelspec": {
   "display_name": "Python 3.10.4 64-bit",
   "language": "python",
   "name": "python3"
  },
  "language_info": {
   "codemirror_mode": {
    "name": "ipython",
    "version": 3
   },
   "file_extension": ".py",
   "mimetype": "text/x-python",
   "name": "python",
   "nbconvert_exporter": "python",
   "pygments_lexer": "ipython3",
   "version": "3.10.4"
  },
  "orig_nbformat": 4,
  "vscode": {
   "interpreter": {
    "hash": "06d3ad103a38a5e5980b0a2ddf222334b9b3630c94a7e75a8e45e8afe280f469"
   }
  }
 },
 "nbformat": 4,
 "nbformat_minor": 2
}
